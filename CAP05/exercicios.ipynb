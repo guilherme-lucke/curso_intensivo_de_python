{
 "cells": [
  {
   "cell_type": "markdown",
   "metadata": {},
   "source": [
    "##### Exercício 5.1"
   ]
  },
  {
   "cell_type": "code",
   "execution_count": 1,
   "metadata": {},
   "outputs": [
    {
     "name": "stdout",
     "output_type": "stream",
     "text": [
      "Is car == 'subaru'? I predict True.\n",
      "True\n",
      "Is ar == 'audi'? I predict False.\n",
      "False\n"
     ]
    }
   ],
   "source": [
    "car = 'subaru'\n",
    "print(\"Is car == 'subaru'? I predict True.\")\n",
    "print(car == 'subaru')\n",
    "print(\"Is ar == 'audi'? I predict False.\")\n",
    "print(car == 'audi')"
   ]
  },
  {
   "cell_type": "markdown",
   "metadata": {},
   "source": [
    "##### Exercício 5.2"
   ]
  },
  {
   "cell_type": "code",
   "execution_count": 11,
   "metadata": {},
   "outputs": [
    {
     "data": {
      "text/plain": [
       "False"
      ]
     },
     "execution_count": 11,
     "metadata": {},
     "output_type": "execute_result"
    }
   ],
   "source": [
    "pokemon = 'pikachu'\n",
    "pokemon == 'charizard'"
   ]
  },
  {
   "cell_type": "code",
   "execution_count": 12,
   "metadata": {},
   "outputs": [
    {
     "data": {
      "text/plain": [
       "True"
      ]
     },
     "execution_count": 12,
     "metadata": {},
     "output_type": "execute_result"
    }
   ],
   "source": [
    "pokemon != 'pichu'"
   ]
  },
  {
   "cell_type": "code",
   "execution_count": 15,
   "metadata": {},
   "outputs": [
    {
     "name": "stdout",
     "output_type": "stream",
     "text": [
      "Não está disponível!\n"
     ]
    }
   ],
   "source": [
    "user_names = ['lucke', 'jota', 'calvin']\n",
    "user_name = 'Lucke'\n",
    "if user_name.lower() in user_names:\n",
    "    print(\"Não está disponível!\")\n",
    "else:\n",
    "    print(\"Está disponível!\")"
   ]
  },
  {
   "cell_type": "markdown",
   "metadata": {},
   "source": [
    "##### Exercício 5.3"
   ]
  },
  {
   "cell_type": "code",
   "execution_count": 16,
   "metadata": {},
   "outputs": [],
   "source": [
    "alien_color = 'red'\n",
    "if alien_color == 'green':\n",
    "    print(\"Você ganhou 5 pontos!\")"
   ]
  },
  {
   "cell_type": "code",
   "execution_count": 17,
   "metadata": {},
   "outputs": [
    {
     "name": "stdout",
     "output_type": "stream",
     "text": [
      "Você ganhou 5 pontos!\n"
     ]
    }
   ],
   "source": [
    "alien_color = 'green'\n",
    "if alien_color == 'green':\n",
    "    print(\"Você ganhou 5 pontos!\")"
   ]
  },
  {
   "cell_type": "markdown",
   "metadata": {},
   "source": [
    "##### Exercício 5.4"
   ]
  },
  {
   "cell_type": "code",
   "execution_count": 18,
   "metadata": {},
   "outputs": [
    {
     "name": "stdout",
     "output_type": "stream",
     "text": [
      "Você ganhou 10 pontos!\n"
     ]
    }
   ],
   "source": [
    "alien_color = 'yellow'\n",
    "if alien_color == 'green':\n",
    "    print(\"Você ganhou 5 pontos!\")\n",
    "else:\n",
    "    print(\"Você ganhou 10 pontos!\")"
   ]
  },
  {
   "cell_type": "code",
   "execution_count": 19,
   "metadata": {},
   "outputs": [
    {
     "name": "stdout",
     "output_type": "stream",
     "text": [
      "Você ganhou 5 pontos!\n"
     ]
    }
   ],
   "source": [
    "alien_color = 'green'\n",
    "if alien_color == 'green':\n",
    "    print(\"Você ganhou 5 pontos!\")\n",
    "else:\n",
    "    print(\"Você ganhou 10 pontos!\")"
   ]
  },
  {
   "cell_type": "markdown",
   "metadata": {},
   "source": [
    "##### Exercício 5.5"
   ]
  },
  {
   "cell_type": "code",
   "execution_count": 20,
   "metadata": {},
   "outputs": [
    {
     "name": "stdout",
     "output_type": "stream",
     "text": [
      "Você ganhou 10 pontos!\n"
     ]
    }
   ],
   "source": [
    "alien_color = 'yellow'\n",
    "if alien_color == 'green':\n",
    "    print(\"Você ganhou 5 pontos!\")\n",
    "elif alien_color == 'yellow':\n",
    "    print(\"Você ganhou 10 pontos!\")\n",
    "elif alien_color == 'red':\n",
    "    print(\"Você ganhou 15 pontos!\")"
   ]
  },
  {
   "cell_type": "code",
   "execution_count": 21,
   "metadata": {},
   "outputs": [
    {
     "name": "stdout",
     "output_type": "stream",
     "text": [
      "Você ganhou 5 pontos!\n"
     ]
    }
   ],
   "source": [
    "alien_color = 'green'\n",
    "if alien_color == 'green':\n",
    "    print(\"Você ganhou 5 pontos!\")\n",
    "elif alien_color == 'yellow':\n",
    "    print(\"Você ganhou 10 pontos!\")\n",
    "elif alien_color == 'red':\n",
    "    print(\"Você ganhou 15 pontos!\")"
   ]
  },
  {
   "cell_type": "code",
   "execution_count": 23,
   "metadata": {},
   "outputs": [
    {
     "name": "stdout",
     "output_type": "stream",
     "text": [
      "Você ganhou 15 pontos!\n"
     ]
    }
   ],
   "source": [
    "alien_color = 'red'\n",
    "if alien_color == 'green':\n",
    "    print(\"Você ganhou 5 pontos!\")\n",
    "elif alien_color == 'yellow':\n",
    "    print(\"Você ganhou 10 pontos!\")\n",
    "elif alien_color == 'red':\n",
    "    print(\"Você ganhou 15 pontos!\")"
   ]
  },
  {
   "cell_type": "markdown",
   "metadata": {},
   "source": [
    "##### Exercício 5.6"
   ]
  },
  {
   "cell_type": "code",
   "execution_count": 24,
   "metadata": {},
   "outputs": [
    {
     "name": "stdout",
     "output_type": "stream",
     "text": [
      "Você é um adulto!\n"
     ]
    }
   ],
   "source": [
    "age = 23\n",
    "if age < 2:\n",
    "    print(\"Você é um bebê!\")\n",
    "elif age < 4:\n",
    "    print(\"Você é uma criança!\")\n",
    "elif age < 13:\n",
    "    print(\"Você é um(a) garoto(a)!\")\n",
    "elif age < 20:\n",
    "    print(\"Você é um adolecente!\")\n",
    "elif age < 65:\n",
    "    print(\"Você é um adulto!\")\n",
    "elif age >= 65:\n",
    "    print(\"Você é um(a) idoso(a)!\")"
   ]
  },
  {
   "cell_type": "markdown",
   "metadata": {},
   "source": [
    "##### Exercício 5.7"
   ]
  },
  {
   "cell_type": "code",
   "execution_count": 25,
   "metadata": {},
   "outputs": [
    {
     "name": "stdout",
     "output_type": "stream",
     "text": [
      "Você realmente gosta de uva!\n",
      "Você realmente gosta de limão!\n",
      "Você realmente gosta de banana!\n"
     ]
    }
   ],
   "source": [
    "favorite_fruits = ['banana', 'limão', 'uva']\n",
    "if \"maça\" in favorite_fruits:\n",
    "    print(\"Você realmente gosta de maça!\")\n",
    "if \"uva\" in favorite_fruits:\n",
    "    print(\"Você realmente gosta de uva!\")\n",
    "if \"limão\" in favorite_fruits:\n",
    "    print(\"Você realmente gosta de limão!\")\n",
    "if \"morango\" in favorite_fruits:\n",
    "    print(\"Você realmente gosta de morango!\")\n",
    "if \"banana\" in favorite_fruits:\n",
    "    print(\"Você realmente gosta de banana!\")"
   ]
  },
  {
   "cell_type": "markdown",
   "metadata": {},
   "source": [
    "##### Exercício 5.8"
   ]
  },
  {
   "cell_type": "code",
   "execution_count": 26,
   "metadata": {},
   "outputs": [
    {
     "name": "stdout",
     "output_type": "stream",
     "text": [
      "Olá Guilherme, obrigado por fazer login novamente.\n",
      "Olá Lucke, obrigado por fazer login novamente.\n",
      "Olá Calvin, obrigado por fazer login novamente.\n",
      "Olá Admin, gostaria de ver um relatório de status?\n",
      "Olá Grilo, obrigado por fazer login novamente.\n"
     ]
    }
   ],
   "source": [
    "usuarios = ['guilherme', 'lucke', 'calvin', 'admin', 'grilo']\n",
    "for usuario in usuarios:\n",
    "    if usuario == 'admin':\n",
    "        print(\"Olá Admin, gostaria de ver um relatório de status?\")\n",
    "    else:\n",
    "        print(\"Olá \" + usuario.title() + \", obrigado por fazer login novamente.\")"
   ]
  },
  {
   "cell_type": "markdown",
   "metadata": {},
   "source": [
    "##### Exercício 5.9"
   ]
  },
  {
   "cell_type": "code",
   "execution_count": 27,
   "metadata": {},
   "outputs": [
    {
     "name": "stdout",
     "output_type": "stream",
     "text": [
      "Precisamos encontrar alguns usuários!\n"
     ]
    }
   ],
   "source": [
    "usuarios = []\n",
    "if usuarios:\n",
    "    for usuario in usuarios:\n",
    "        if usuario == 'admin':\n",
    "            print(\"Olá Admin, gostaria de ver um relatório de status?\")\n",
    "        else:\n",
    "            print(\"Olá \" + usuario.title() +\n",
    "                  \", obrigado por fazer login novamente.\")\n",
    "else:\n",
    "    print(\"Precisamos encontrar alguns usuários!\")"
   ]
  },
  {
   "cell_type": "markdown",
   "metadata": {},
   "source": [
    "##### Exercício 5.10"
   ]
  },
  {
   "cell_type": "code",
   "execution_count": 28,
   "metadata": {},
   "outputs": [
    {
     "name": "stdout",
     "output_type": "stream",
     "text": [
      "Esse nome está disponível!\n",
      "Você deve escolher outro nome!\n",
      "Esse nome está disponível!\n",
      "Esse nome está disponível!\n",
      "Você deve escolher outro nome!\n"
     ]
    }
   ],
   "source": [
    "corrent_users = ['guilherme', 'lucke', 'calvin', 'admin', 'grilo']\n",
    "new_users = ['jota', 'Lucke', 'lord', 'junior', 'grilo']\n",
    "for new_user in new_users:\n",
    "    if new_user.lower() in corrent_users:\n",
    "        print(\"Você deve escolher outro nome!\")\n",
    "    else:\n",
    "        print(\"Esse nome está disponível!\")"
   ]
  },
  {
   "cell_type": "markdown",
   "metadata": {},
   "source": [
    "##### Exercício 5.11"
   ]
  },
  {
   "cell_type": "code",
   "execution_count": 29,
   "metadata": {},
   "outputs": [
    {
     "name": "stdout",
     "output_type": "stream",
     "text": [
      "1st\n",
      "2nd\n",
      "3rd\n",
      "4th\n",
      "5th\n",
      "6th\n",
      "7th\n",
      "8th\n",
      "9th\n"
     ]
    }
   ],
   "source": [
    "numbers = [1, 2, 3, 4, 5, 6, 7, 8, 9]\n",
    "for number in numbers:\n",
    "    if number == 1:\n",
    "        print(str(number) + \"st\")\n",
    "    elif number == 2:\n",
    "        print(str(number) + \"nd\")\n",
    "    elif number == 3:\n",
    "        print(str(number) + \"rd\")\n",
    "    else:\n",
    "        print(str(number) + \"th\")"
   ]
  }
 ],
 "metadata": {
  "kernelspec": {
   "display_name": ".venv",
   "language": "python",
   "name": "python3"
  },
  "language_info": {
   "codemirror_mode": {
    "name": "ipython",
    "version": 3
   },
   "file_extension": ".py",
   "mimetype": "text/x-python",
   "name": "python",
   "nbconvert_exporter": "python",
   "pygments_lexer": "ipython3",
   "version": "3.12.1"
  }
 },
 "nbformat": 4,
 "nbformat_minor": 2
}
