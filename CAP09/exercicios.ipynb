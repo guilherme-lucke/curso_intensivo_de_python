{
 "cells": [
  {
   "attachments": {},
   "cell_type": "markdown",
   "metadata": {},
   "source": [
    "##### Exercício 9.1"
   ]
  },
  {
   "cell_type": "code",
   "execution_count": 10,
   "metadata": {},
   "outputs": [],
   "source": [
    "class Restaurant():\n",
    "    def __init__(self, name, cuisine_type):\n",
    "        self.restaurant_name = name\n",
    "        self.cuisine_type = cuisine_type\n",
    "\n",
    "    def describe_restaurant(self):\n",
    "        print(\"O nome do restaurante é \" + self.restaurant_name.title() + \".\")\n",
    "        print(\"E seu tipo de cozinha é \" + self.cuisine_type.title() + \".\")\n",
    "    \n",
    "    def open_restaurant(self):\n",
    "        print(\"O restaurante \" + self.restaurant_name.title() + \" está aberto!\")\n"
   ]
  },
  {
   "cell_type": "code",
   "execution_count": 12,
   "metadata": {},
   "outputs": [
    {
     "name": "stdout",
     "output_type": "stream",
     "text": [
      "Nandos\n",
      "Lanchonete E Petiscaria\n",
      "O nome do restaurante é Nandos.\n",
      "E seu tipo de cozinha é Lanchonete E Petiscaria.\n",
      "O restaurante Nandos está aberto!\n"
     ]
    }
   ],
   "source": [
    "restaurant = Restaurant('nandos', 'lanchonete e petiscaria')\n",
    "print(restaurant.restaurant_name.title())\n",
    "print(restaurant.cuisine_type.title())\n",
    "restaurant.describe_restaurant()\n",
    "restaurant.open_restaurant()"
   ]
  },
  {
   "attachments": {},
   "cell_type": "markdown",
   "metadata": {},
   "source": [
    "##### Exercício 9.2"
   ]
  },
  {
   "cell_type": "code",
   "execution_count": 13,
   "metadata": {},
   "outputs": [
    {
     "name": "stdout",
     "output_type": "stream",
     "text": [
      "O nome do restaurante é Maeda.\n",
      "E seu tipo de cozinha é Japanês.\n",
      "O nome do restaurante é Lanchonete Universitária.\n",
      "E seu tipo de cozinha é Lanchonete E Pastelaria.\n",
      "O nome do restaurante é Grillos Espetinhos.\n",
      "E seu tipo de cozinha é Churrasquinho.\n"
     ]
    }
   ],
   "source": [
    "maeda = Restaurant('maeda', \"japanês\")\n",
    "lu = Restaurant('lanchonete universitária', 'lanchonete e pastelaria')\n",
    "grillos = Restaurant('grillos espetinhos', 'churrasquinho')\n",
    "maeda.describe_restaurant()\n",
    "lu.describe_restaurant()\n",
    "grillos.describe_restaurant()"
   ]
  },
  {
   "attachments": {},
   "cell_type": "markdown",
   "metadata": {},
   "source": [
    "##### Exercício 9.3"
   ]
  },
  {
   "cell_type": "code",
   "execution_count": 159,
   "metadata": {},
   "outputs": [
    {
     "name": "stdout",
     "output_type": "stream",
     "text": [
      "\n",
      "Informações do usuário:\n",
      "\tNome: Calvin Klaus\n",
      "\tIdade: 21\n",
      "\tEmail: cklaus@email.com\n",
      "\n",
      "Olá Calvin Klaus!\n",
      "\n",
      "Informações do usuário:\n",
      "\tNome: Mike Jovem\n",
      "\tIdade: 67\n",
      "\tEmail: mjovem@email.com\n",
      "\n",
      "Olá Mike Jovem!\n",
      "\n",
      "Informações do usuário:\n",
      "\tNome: Joe Espanha\n",
      "\tIdade: 5\n",
      "\tEmail: jespanha@email.com\n",
      "\n",
      "Olá Joe Espanha!\n"
     ]
    }
   ],
   "source": [
    "class User():\n",
    "    def __init__(self, first_name, last_name, age, email):\n",
    "        self.first_name = first_name\n",
    "        self.last_name = last_name\n",
    "        self.age = age\n",
    "        self.email = email\n",
    "\n",
    "    def describe_user(self):\n",
    "        print(\"\\nInformações do usuário:\\n\\tNome: \" + self.first_name.title() + \" \" + \n",
    "              self.last_name.title() + \"\\n\\tIdade: \" + str(self.age) + \"\\n\\tEmail: \" + self.email)\n",
    "    \n",
    "    def greet_user(self):\n",
    "        print(\"\\nOlá \" + self.first_name.title() + \" \" + self.last_name.title() + \"!\")\n",
    "\n",
    "calvin = User('Calvin', 'Klaus', '21', 'cklaus@email.com')\n",
    "mike = User('mike', 'jovem', '67', 'mjovem@email.com')\n",
    "joe = User('joe', 'espanha', '5', 'jespanha@email.com')\n",
    "calvin.describe_user()\n",
    "calvin.greet_user()\n",
    "mike.describe_user()\n",
    "mike.greet_user()\n",
    "joe.describe_user()\n",
    "joe.greet_user()\n",
    "    "
   ]
  },
  {
   "attachments": {},
   "cell_type": "markdown",
   "metadata": {},
   "source": [
    "##### Exercício 9.4"
   ]
  },
  {
   "cell_type": "code",
   "execution_count": 160,
   "metadata": {},
   "outputs": [
    {
     "name": "stdout",
     "output_type": "stream",
     "text": [
      "Número de Clientes: 0\n",
      "Número de Clientes: 7\n"
     ]
    }
   ],
   "source": [
    "class Restaurant():\n",
    "    def __init__(self, name, cuisine_type):\n",
    "        self.restaurant_name = name\n",
    "        self.cuisine_type = cuisine_type\n",
    "        self.number_served = 0\n",
    "\n",
    "    def describe_restaurant(self):\n",
    "        print(\"O nome do restaurante é \" + self.restaurant_name.title() + \".\")\n",
    "        print(\"E seu tipo de cozinha é \" + self.cuisine_type.title() + \".\")\n",
    "\n",
    "    def open_restaurant(self):\n",
    "        print(\"O restaurante \" + self.restaurant_name.title() + \" está aberto!\")\n",
    "\n",
    "    def set_number_served(self, clients):\n",
    "        self.number_served = clients\n",
    "    \n",
    "    def increment_number_served(self, clients):\n",
    "        self.number_served += clients\n",
    "\n",
    "restaurant = Restaurant('nandos', 'lanchonete e petiscaria')\n",
    "print(\"Número de Clientes: \" + str(restaurant.number_served))\n",
    "restaurant.number_served = 7\n",
    "print(\"Número de Clientes: \" + str(restaurant.number_served))\n"
   ]
  },
  {
   "cell_type": "code",
   "execution_count": 161,
   "metadata": {},
   "outputs": [
    {
     "name": "stdout",
     "output_type": "stream",
     "text": [
      "Número de Clientes: 10\n"
     ]
    }
   ],
   "source": [
    "restaurant.set_number_served(10)\n",
    "print(\"Número de Clientes: \" + str(restaurant.number_served))\n"
   ]
  },
  {
   "cell_type": "code",
   "execution_count": 162,
   "metadata": {},
   "outputs": [
    {
     "name": "stdout",
     "output_type": "stream",
     "text": [
      "Número de Clientes: 8\n"
     ]
    }
   ],
   "source": [
    "restaurant.increment_number_served(-2)\n",
    "print(\"Número de Clientes: \" + str(restaurant.number_served))"
   ]
  },
  {
   "attachments": {},
   "cell_type": "markdown",
   "metadata": {},
   "source": [
    "##### Exercício 9.5"
   ]
  },
  {
   "cell_type": "code",
   "execution_count": 163,
   "metadata": {},
   "outputs": [],
   "source": [
    "class User():\n",
    "    def __init__(self, first_name, last_name, age, email):\n",
    "        self.first_name = first_name\n",
    "        self.last_name = last_name\n",
    "        self.age = age\n",
    "        self.email = email\n",
    "        self.login_attempts = 0\n",
    "\n",
    "    def describe_user(self):\n",
    "        print(\"\\nInformações do usuário:\\n\\tNome: \" + self.first_name.title() + \" \" +\n",
    "              self.last_name.title() + \"\\n\\tIdade: \" + str(self.age) + \"\\n\\tEmail: \" + self.email)\n",
    "\n",
    "    def greet_user(self):\n",
    "        print(\"\\nOlá \" + self.first_name.title() +\n",
    "              \" \" + self.last_name.title() + \"!\")\n",
    "\n",
    "    def increment_login_attempts(self):\n",
    "        self.login_attempts += 1\n",
    "    \n",
    "    def reset_login_attempts(self):\n",
    "        self.login_attempts = 0"
   ]
  },
  {
   "cell_type": "code",
   "execution_count": 164,
   "metadata": {},
   "outputs": [
    {
     "name": "stdout",
     "output_type": "stream",
     "text": [
      "Tentativas de Login: 1\n",
      "Tentativas de Login: 2\n",
      "Tentativas de Login: 3\n",
      "Tentativas de Login: 4\n",
      "Tentativas de Login: 5\n",
      "Tentativas de Login: 0\n"
     ]
    }
   ],
   "source": [
    "calvin = User('Calvin', 'Klaus', '21', 'cklaus@email.com')\n",
    "\n",
    "for value in range(1,6):\n",
    "    calvin.increment_login_attempts()\n",
    "    print(\"Tentativas de Login: \" + str(calvin.login_attempts))\n",
    "\n",
    "calvin.reset_login_attempts()\n",
    "print(\"Tentativas de Login: \" + str(calvin.login_attempts))\n"
   ]
  },
  {
   "attachments": {},
   "cell_type": "markdown",
   "metadata": {},
   "source": [
    "##### Exercício 9.6"
   ]
  },
  {
   "cell_type": "code",
   "execution_count": 165,
   "metadata": {},
   "outputs": [
    {
     "name": "stdout",
     "output_type": "stream",
     "text": [
      "Lista de saberes do The Best:\n",
      "\taçai\n",
      "\tmaracuja\n",
      "\tpassas ao rum\n"
     ]
    }
   ],
   "source": [
    "class Sorveteria(Restaurant):\n",
    "    \"\"\"Tentativa de modelar uma sorveteria\"\"\"\n",
    "\n",
    "    def __init__(self, name, cuisine_type, flavors=[]):\n",
    "        super().__init__(name, cuisine_type)\n",
    "        self.flavors = flavors\n",
    "    def show_flavors(self):\n",
    "        print(\"Lista de saberes do \" + self.restaurant_name.title() + \":\")\n",
    "        for flavor in self.flavors:\n",
    "            print(\"\\t\" + flavor)\n",
    "\n",
    "\n",
    "the_best = Sorveteria('the best', 'sorveteria', flavors=['açai', 'maracuja', 'passas ao rum'])\n",
    "the_best.show_flavors()\n"
   ]
  },
  {
   "attachments": {},
   "cell_type": "markdown",
   "metadata": {},
   "source": [
    "##### Exercício 9.7"
   ]
  },
  {
   "cell_type": "code",
   "execution_count": 166,
   "metadata": {},
   "outputs": [
    {
     "name": "stdout",
     "output_type": "stream",
     "text": [
      "Lista de privilégios do Thor:\n",
      "\tcan add post\n",
      "\tcan delete post\n",
      "\tcan ban user\n"
     ]
    }
   ],
   "source": [
    "class Admin(User):\n",
    "    def __init__(self, first_name, last_name, age, email, privileges=[]):\n",
    "        super().__init__(first_name, last_name, age, email)\n",
    "        self.privileges = privileges\n",
    "\n",
    "    def show_privileges(self):\n",
    "        print(\"Lista de privilégios do \" + self.first_name.title() + \":\")\n",
    "        for privilege in self.privileges:\n",
    "            print(\"\\t\" + privilege)\n",
    "thor = Admin('thor', 'vigarista', 109, 'tvigarista@email.com', privileges=['can add post','can delete post', 'can ban user'])\n",
    "thor.show_privileges()\n"
   ]
  },
  {
   "attachments": {},
   "cell_type": "markdown",
   "metadata": {},
   "source": [
    "##### Exercício 9.8"
   ]
  },
  {
   "cell_type": "code",
   "execution_count": 167,
   "metadata": {},
   "outputs": [
    {
     "name": "stdout",
     "output_type": "stream",
     "text": [
      "Lista de privilégios:\n",
      "\tcan add post\n",
      "\tcan delete post\n",
      "\tcan ban user\n"
     ]
    }
   ],
   "source": [
    "class Privileges():\n",
    "    def __init__(self, privileges=[]):\n",
    "        self.privileges = privileges\n",
    "    \n",
    "    def show_privileges(self):\n",
    "        print(\"Lista de privilégios:\")\n",
    "        for privilege in self.privileges:\n",
    "            print(\"\\t\" + privilege)\n",
    "\n",
    "\n",
    "class Admin(User):\n",
    "    def __init__(self, first_name, last_name, age, email):\n",
    "        super().__init__(first_name, last_name, age, email)\n",
    "        self.privileges = Privileges(\n",
    "            privileges=['can add post', 'can delete post', 'can ban user'])\n",
    "\n",
    "\n",
    "thor = Admin('thor', 'vigarista', 109, 'tvigarista@email.com')\n",
    "thor.privileges.show_privileges()"
   ]
  },
  {
   "attachments": {},
   "cell_type": "markdown",
   "metadata": {},
   "source": [
    "##### Exercício 9.9"
   ]
  },
  {
   "cell_type": "code",
   "execution_count": 101,
   "metadata": {},
   "outputs": [
    {
     "name": "stdout",
     "output_type": "stream",
     "text": [
      "This car can go approximately 240 miles on a full charge.\n",
      "This car can go approximately 270 miles on a full charge.\n"
     ]
    }
   ],
   "source": [
    "class Battery():\n",
    "    \"\"\"Tentativa  simples de modelar uma bateria para um carro elétrico.\"\"\"\n",
    "\n",
    "    def __init__(self, battery_size=70):\n",
    "        \"\"\"Inicializa os atributos da bateria.\"\"\"\n",
    "        self.battery_size = battery_size\n",
    "\n",
    "    def describe_battery(self):\n",
    "        \"\"\"Exibe uma frase que descreve a capacidade da bateria.\"\"\"\n",
    "        print(\"This car has a \" + str(self.battery_size) + \"-kWh battery.\")\n",
    "\n",
    "    def get_range(self):\n",
    "        \"\"\"Exibe uma frase sobre a distância que o carro é capaz de percorrer com essa bateria.\"\"\"\n",
    "        if self.battery_size == 70:\n",
    "            range = 240\n",
    "        elif self.battery_size == 85:\n",
    "            range = 270\n",
    "        message = \"This car can go approximately \" + str(range)\n",
    "        message += \" miles on a full charge.\"\n",
    "        print(message)\n",
    "    def upgrade_battery(self):\n",
    "        if self.battery_size!=85:\n",
    "            self.battery_size=85\n",
    "\n",
    "class ElectricCar(Car):\n",
    "    \"\"\"Representa aspectos específicos de veículos elétricos.\"\"\"\n",
    "\n",
    "    def __init__(self, make, model, year):\n",
    "        \"\"\"Inicializa os atributos da classe pai.\n",
    "        Em seguida , inicializa os atributos específiocs de um carro elétrico.\"\"\"\n",
    "        super().__init__(make, model, year)\n",
    "        self.battery = Battery()\n",
    "\n",
    "\n",
    "my_tesla = ElectricCar('tesla', 'model s', 2016)\n",
    "my_tesla.battery.get_range()\n",
    "my_tesla.battery.upgrade_battery()\n",
    "my_tesla.battery.get_range()"
   ]
  },
  {
   "attachments": {},
   "cell_type": "markdown",
   "metadata": {},
   "source": [
    "##### Exercício 9.10"
   ]
  },
  {
   "cell_type": "code",
   "execution_count": 1,
   "metadata": {},
   "outputs": [
    {
     "name": "stdout",
     "output_type": "stream",
     "text": [
      "Número de Clientes: 0\n",
      "Número de Clientes: 7\n",
      "Número de Clientes: 10\n",
      "Número de Clientes: 8\n"
     ]
    }
   ],
   "source": [
    "from restaurant import Restaurant\n",
    "restaurant = Restaurant('nandos', 'lanchonete e petiscaria')\n",
    "print(\"Número de Clientes: \" + str(restaurant.number_served))\n",
    "restaurant.number_served = 7\n",
    "print(\"Número de Clientes: \" + str(restaurant.number_served))\n",
    "restaurant.set_number_served(10)\n",
    "print(\"Número de Clientes: \" + str(restaurant.number_served))\n",
    "restaurant.increment_number_served(-2)\n",
    "print(\"Número de Clientes: \" + str(restaurant.number_served))\n"
   ]
  },
  {
   "attachments": {},
   "cell_type": "markdown",
   "metadata": {},
   "source": [
    "##### Exercício 9.11"
   ]
  },
  {
   "cell_type": "code",
   "execution_count": 2,
   "metadata": {},
   "outputs": [
    {
     "name": "stdout",
     "output_type": "stream",
     "text": [
      "Lista de privilégios:\n",
      "\tcan add post\n",
      "\tcan delete post\n",
      "\tcan ban user\n"
     ]
    }
   ],
   "source": [
    "from admin import Admin\n",
    "thor = Admin('thor', 'vigarista', 109, 'tvigarista@email.com')\n",
    "thor.privileges.show_privileges()"
   ]
  },
  {
   "attachments": {},
   "cell_type": "markdown",
   "metadata": {},
   "source": [
    "##### Exercício 9.12"
   ]
  },
  {
   "cell_type": "code",
   "execution_count": 3,
   "metadata": {},
   "outputs": [
    {
     "name": "stdout",
     "output_type": "stream",
     "text": [
      "Lista de privilégios:\n",
      "\tcan add post\n",
      "\tcan delete post\n",
      "\tcan ban user\n"
     ]
    }
   ],
   "source": [
    "from admin import Admin\n",
    "thor = Admin('thor', 'vigarista', 109, 'tvigarista@email.com')\n",
    "thor.privileges.show_privileges()\n"
   ]
  },
  {
   "attachments": {},
   "cell_type": "markdown",
   "metadata": {},
   "source": [
    "##### Exercício 9.13"
   ]
  },
  {
   "cell_type": "code",
   "execution_count": 16,
   "metadata": {},
   "outputs": [
    {
     "name": "stdout",
     "output_type": "stream",
     "text": [
      "If:  teste condicional.\n",
      "\n",
      "Dicionário:  coleção de chave-valor.\n",
      "\n",
      "Dataframe:  semelhante a uma tabela de db.\n",
      "\n",
      "Requests:  solicitar informação.\n",
      "\n",
      "Virtualenv:  ambiente virtual.\n",
      "\n",
      "Def:  definir uma função.\n",
      "\n",
      "Set:  remove itens repetidos.\n",
      "\n",
      "Sorted:  ordena uma lista.\n",
      "\n",
      "Values:  uma lisat com todos os valores.\n",
      "\n"
     ]
    }
   ],
   "source": [
    "from collections import OrderedDict\n",
    "\n",
    "glossario = OrderedDict()\n",
    "\n",
    "glossario['if'] = 'teste condicional'\n",
    "glossario['dicionário'] = 'coleção de chave-valor'\n",
    "glossario['dataframe'] = 'semelhante a uma tabela de db'\n",
    "glossario['requests'] = 'solicitar informação'\n",
    "glossario['virtualenv'] = 'ambiente virtual'\n",
    "glossario['def'] = 'definir uma função'\n",
    "glossario['set'] = 'remove itens repetidos'\n",
    "glossario['sorted'] = 'ordena uma lista'\n",
    "glossario['values'] = 'uma lisat com todos os valores'\n",
    "\n",
    "for key, value in glossario.items():\n",
    "    print(key.title() + \":  \" + value + \".\\n\")\n"
   ]
  },
  {
   "attachments": {},
   "cell_type": "markdown",
   "metadata": {},
   "source": [
    "##### Exercício 9.14"
   ]
  },
  {
   "cell_type": "code",
   "execution_count": 119,
   "metadata": {},
   "outputs": [
    {
     "name": "stdout",
     "output_type": "stream",
     "text": [
      "3\n"
     ]
    }
   ],
   "source": [
    "from random import randint \n",
    "x = randint(1, 6)\n",
    "print(x)\n"
   ]
  },
  {
   "cell_type": "code",
   "execution_count": 114,
   "metadata": {},
   "outputs": [],
   "source": [
    "from random import randint\n",
    "\n",
    "class Die():\n",
    "    def __init__(self, sides):\n",
    "        self.sides = sides\n",
    "\n",
    "    def roll_die(self, jogadas):\n",
    "        i = 0\n",
    "        while i < jogadas:\n",
    "            print(randint(1, self.sides))\n",
    "            i += 1\n"
   ]
  },
  {
   "cell_type": "code",
   "execution_count": 116,
   "metadata": {},
   "outputs": [
    {
     "name": "stdout",
     "output_type": "stream",
     "text": [
      "2\n",
      "4\n",
      "6\n",
      "5\n",
      "4\n",
      "5\n",
      "2\n",
      "1\n",
      "5\n",
      "5\n"
     ]
    }
   ],
   "source": [
    "seis = Die(6)\n",
    "seis.roll_die(10)"
   ]
  },
  {
   "cell_type": "code",
   "execution_count": 117,
   "metadata": {},
   "outputs": [
    {
     "name": "stdout",
     "output_type": "stream",
     "text": [
      "1\n",
      "8\n",
      "7\n",
      "3\n",
      "2\n",
      "9\n",
      "2\n",
      "2\n",
      "2\n",
      "6\n"
     ]
    }
   ],
   "source": [
    "dez = Die(10)\n",
    "dez.roll_die(10)\n"
   ]
  },
  {
   "cell_type": "code",
   "execution_count": 118,
   "metadata": {},
   "outputs": [
    {
     "name": "stdout",
     "output_type": "stream",
     "text": [
      "11\n",
      "18\n",
      "16\n",
      "11\n",
      "20\n",
      "9\n",
      "20\n",
      "15\n",
      "15\n",
      "9\n"
     ]
    }
   ],
   "source": [
    "vinte = Die(20)\n",
    "vinte.roll_die(10)\n"
   ]
  }
 ],
 "metadata": {
  "kernelspec": {
   "display_name": ".venv",
   "language": "python",
   "name": "python3"
  },
  "language_info": {
   "codemirror_mode": {
    "name": "ipython",
    "version": 3
   },
   "file_extension": ".py",
   "mimetype": "text/x-python",
   "name": "python",
   "nbconvert_exporter": "python",
   "pygments_lexer": "ipython3",
   "version": "3.12.1"
  },
  "orig_nbformat": 4
 },
 "nbformat": 4,
 "nbformat_minor": 2
}
