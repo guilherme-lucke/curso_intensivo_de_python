{
 "cells": [
  {
   "cell_type": "markdown",
   "metadata": {},
   "source": [
    "##### Exercício 2.1"
   ]
  },
  {
   "cell_type": "code",
   "execution_count": 1,
   "metadata": {},
   "outputs": [
    {
     "name": "stdout",
     "output_type": "stream",
     "text": [
      "Temos de ser mais fortes do que nossas melhores desculpas. - A Tríade do Tempo\n"
     ]
    }
   ],
   "source": [
    "message = \"Temos de ser mais fortes do que nossas melhores desculpas. - A Tríade do Tempo\"\n",
    "print(message)"
   ]
  },
  {
   "cell_type": "markdown",
   "metadata": {},
   "source": [
    "##### Exercício 2.2"
   ]
  },
  {
   "cell_type": "code",
   "execution_count": 2,
   "metadata": {},
   "outputs": [
    {
     "name": "stdout",
     "output_type": "stream",
     "text": [
      "Temos de ser mais fortes do que nossas melhores desculpas. - A Tríade do Tempo\n",
      "É impossível gerenciar aquilo que você não consegue medir ou visualizar. - Peter Drucker\n"
     ]
    }
   ],
   "source": [
    "message = \"Temos de ser mais fortes do que nossas melhores desculpas. - A Tríade do Tempo\"\n",
    "print(message)\n",
    "message = \"É impossível gerenciar aquilo que você não consegue medir ou visualizar. - Peter Drucker\"\n",
    "print(message)\n"
   ]
  },
  {
   "cell_type": "markdown",
   "metadata": {},
   "source": [
    "##### Exercício 2.3"
   ]
  },
  {
   "cell_type": "code",
   "execution_count": 3,
   "metadata": {},
   "outputs": [
    {
     "name": "stdout",
     "output_type": "stream",
     "text": [
      "Alô Guilherme Lucke, você gostaria de aprender Python hoje?\n",
      "\n"
     ]
    }
   ],
   "source": [
    "name = \"Guilherme Lucke\"\n",
    "print(\"Alô \" + name + \", você gostaria de aprender Python hoje?\\n\")"
   ]
  },
  {
   "cell_type": "markdown",
   "metadata": {},
   "source": [
    "##### Exercício 2.4"
   ]
  },
  {
   "cell_type": "code",
   "execution_count": 4,
   "metadata": {},
   "outputs": [
    {
     "name": "stdout",
     "output_type": "stream",
     "text": [
      "guilherme lucke\n",
      "GUILHERME LUCKE\n",
      "Guilherme Lucke\n",
      "\n"
     ]
    }
   ],
   "source": [
    "name = \"Guilherme Lucke\"\n",
    "print(name.lower())\n",
    "print(name.upper())\n",
    "print(name.title() + \"\\n\")"
   ]
  },
  {
   "cell_type": "markdown",
   "metadata": {},
   "source": [
    "##### Exercício 2.5"
   ]
  },
  {
   "cell_type": "code",
   "execution_count": 5,
   "metadata": {},
   "outputs": [
    {
     "name": "stdout",
     "output_type": "stream",
     "text": [
      "Peter Drucker certa vez disse: \"É impossível gerenciar aquilo que você não consegue medir ou visualizar.\n"
     ]
    }
   ],
   "source": [
    "frase = \"É impossível gerenciar aquilo que você não consegue medir ou visualizar.\"\n",
    "autor = \"Peter Drucker\"\n",
    "print(autor + \" certa vez disse: \" + '\"' + frase)"
   ]
  },
  {
   "cell_type": "markdown",
   "metadata": {},
   "source": [
    "##### Exercício 2.6"
   ]
  },
  {
   "cell_type": "code",
   "execution_count": 6,
   "metadata": {},
   "outputs": [
    {
     "name": "stdout",
     "output_type": "stream",
     "text": [
      "Peter Drucker certa vez disse: \"É impossível gerenciar aquilo que você não consegue medir ou visualizar.\n"
     ]
    }
   ],
   "source": [
    "famous_name = \"Peter Drucker\"\n",
    "frase = \"É impossível gerenciar aquilo que você não consegue medir ou visualizar.\"\n",
    "message = famous_name + \" certa vez disse: \" + '\"' + frase\n",
    "print(message)"
   ]
  },
  {
   "cell_type": "markdown",
   "metadata": {},
   "source": [
    "##### Exercício 2.7"
   ]
  },
  {
   "cell_type": "code",
   "execution_count": 7,
   "metadata": {},
   "outputs": [
    {
     "name": "stdout",
     "output_type": "stream",
     "text": [
      " Lucke \n",
      "\n",
      " Lucke\n",
      "\n",
      "Lucke \n",
      "\n",
      "\tLucke\n"
     ]
    }
   ],
   "source": [
    "name = \" Lucke \"\n",
    "print(name + \"\\n\")\n",
    "print(name.rstrip()+ \"\\n\")\n",
    "print(name.lstrip()+ \"\\n\")\n",
    "print(\"\\t\" + name.strip())"
   ]
  },
  {
   "cell_type": "markdown",
   "metadata": {},
   "source": [
    "##### Exercício 2.8"
   ]
  },
  {
   "cell_type": "code",
   "execution_count": 8,
   "metadata": {},
   "outputs": [
    {
     "name": "stdout",
     "output_type": "stream",
     "text": [
      "8\n",
      "8\n",
      "8\n",
      "8.0\n"
     ]
    }
   ],
   "source": [
    "print(5+3)\n",
    "print(15-7)\n",
    "print(2*4)\n",
    "print(72/9)"
   ]
  },
  {
   "cell_type": "markdown",
   "metadata": {},
   "source": [
    "##### Exercício 2.9"
   ]
  },
  {
   "cell_type": "code",
   "execution_count": 9,
   "metadata": {},
   "outputs": [
    {
     "name": "stdout",
     "output_type": "stream",
     "text": [
      "Meu numero favorito e: 3\n"
     ]
    }
   ],
   "source": [
    "n = 3\n",
    "print(\"Meu numero favorito e: \" + str(n))"
   ]
  },
  {
   "cell_type": "markdown",
   "metadata": {},
   "source": [
    "##### Exercício 2.10"
   ]
  },
  {
   "cell_type": "code",
   "execution_count": 10,
   "metadata": {},
   "outputs": [
    {
     "name": "stdout",
     "output_type": "stream",
     "text": [
      "-_-\n"
     ]
    }
   ],
   "source": [
    "# Revisando e passando os códigos para notbook - 10/09/2023\n",
    "print(\"-_-\")"
   ]
  },
  {
   "cell_type": "markdown",
   "metadata": {},
   "source": []
  }
 ],
 "metadata": {
  "kernelspec": {
   "display_name": "Python 3",
   "language": "python",
   "name": "python3"
  },
  "language_info": {
   "codemirror_mode": {
    "name": "ipython",
    "version": 3
   },
   "file_extension": ".py",
   "mimetype": "text/x-python",
   "name": "python",
   "nbconvert_exporter": "python",
   "pygments_lexer": "ipython3",
   "version": "3.12.1"
  },
  "orig_nbformat": 4
 },
 "nbformat": 4,
 "nbformat_minor": 2
}
