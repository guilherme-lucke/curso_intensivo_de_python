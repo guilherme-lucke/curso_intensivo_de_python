{
 "cells": [
  {
   "attachments": {},
   "cell_type": "markdown",
   "metadata": {},
   "source": [
    "##### Exercício 10.1"
   ]
  },
  {
   "cell_type": "code",
   "execution_count": 13,
   "metadata": {},
   "outputs": [
    {
     "name": "stdout",
     "output_type": "stream",
     "text": [
      "Arquivos: Como abrir, ler e modificar arquivos em python.\n",
      "POO: Como modelar a realidade usando classes e objetos em python.\n",
      "Funcoes: Blocos de codigo nomeados, concebidos para realizar uma tarefa especifica.\n",
      "Entrada de dados: Como capturar dados de um usuario em python.\n",
      "Estrutura de dados: Como criar e trabalhar com listas e dicionarios em python.\n",
      "Lacos: Para percorrer as listas em python.\n",
      "If: Para criar estruturas condicionais em python.\n"
     ]
    }
   ],
   "source": [
    "filename = 'learning_python.txt'\n",
    "with open(filename) as file_object:\n",
    "    contents = file_object.read()\n",
    "    print(contents)\n"
   ]
  },
  {
   "cell_type": "code",
   "execution_count": 14,
   "metadata": {},
   "outputs": [
    {
     "name": "stdout",
     "output_type": "stream",
     "text": [
      "Arquivos: Como abrir, ler e modificar arquivos em python.\n",
      "POO: Como modelar a realidade usando classes e objetos em python.\n",
      "Funcoes: Blocos de codigo nomeados, concebidos para realizar uma tarefa especifica.\n",
      "Entrada de dados: Como capturar dados de um usuario em python.\n",
      "Estrutura de dados: Como criar e trabalhar com listas e dicionarios em python.\n",
      "Lacos: Para percorrer as listas em python.\n",
      "If: Para criar estruturas condicionais em python.\n"
     ]
    }
   ],
   "source": [
    "filename = 'learning_python.txt'\n",
    "with open(filename) as file_object:\n",
    "    for line in file_object:\n",
    "        print(line.rstrip())\n"
   ]
  },
  {
   "cell_type": "code",
   "execution_count": 15,
   "metadata": {},
   "outputs": [
    {
     "name": "stdout",
     "output_type": "stream",
     "text": [
      "Arquivos: Como abrir, ler e modificar arquivos em python.\n",
      "POO: Como modelar a realidade usando classes e objetos em python.\n",
      "Funcoes: Blocos de codigo nomeados, concebidos para realizar uma tarefa especifica.\n",
      "Entrada de dados: Como capturar dados de um usuario em python.\n",
      "Estrutura de dados: Como criar e trabalhar com listas e dicionarios em python.\n",
      "Lacos: Para percorrer as listas em python.\n",
      "If: Para criar estruturas condicionais em python.\n"
     ]
    }
   ],
   "source": [
    "filename = 'learning_python.txt'\n",
    "with open(filename) as file_object:\n",
    "    lines = file_object.readlines()\n",
    "for line in lines:\n",
    "    print(line.rstrip())\n"
   ]
  },
  {
   "attachments": {},
   "cell_type": "markdown",
   "metadata": {},
   "source": [
    "##### Exercício 10.2"
   ]
  },
  {
   "cell_type": "code",
   "execution_count": 12,
   "metadata": {},
   "outputs": [
    {
     "data": {
      "text/plain": [
       "'I really like cats.'"
      ]
     },
     "execution_count": 12,
     "metadata": {},
     "output_type": "execute_result"
    }
   ],
   "source": [
    "message = \"I really like dogs.\"\n",
    "message.replace('dog', 'cat')"
   ]
  },
  {
   "cell_type": "code",
   "execution_count": 16,
   "metadata": {},
   "outputs": [
    {
     "name": "stdout",
     "output_type": "stream",
     "text": [
      "Arquivos: Como abrir, ler e modificar arquivos em c.\n",
      "POO: Como modelar a realidade usando classes e objetos em c.\n",
      "Funcoes: Blocos de codigo nomeados, concebidos para realizar uma tarefa especifica.\n",
      "Entrada de dados: Como capturar dados de um usuario em c.\n",
      "Estrutura de dados: Como criar e trabalhar com listas e dicionarios em c.\n",
      "Lacos: Para percorrer as listas em c.\n",
      "If: Para criar estruturas condicionais em c.\n"
     ]
    }
   ],
   "source": [
    "filename = 'learning_python.txt'\n",
    "with open(filename) as file_object:\n",
    "    lines = file_object.readlines()\n",
    "for line in lines:\n",
    "    print(line.replace('python', 'c').rstrip())\n"
   ]
  },
  {
   "attachments": {},
   "cell_type": "markdown",
   "metadata": {},
   "source": [
    "##### Exercício 10.3"
   ]
  },
  {
   "cell_type": "code",
   "execution_count": 17,
   "metadata": {},
   "outputs": [],
   "source": [
    "user_name = input(\"Qual o seu nome?\")\n",
    "filename = 'guest.txt'\n",
    "with open(filename, 'w') as file_object:\n",
    "    file_object.write(user_name.title())"
   ]
  },
  {
   "attachments": {},
   "cell_type": "markdown",
   "metadata": {},
   "source": [
    "##### Exercício 10.4"
   ]
  },
  {
   "cell_type": "code",
   "execution_count": 22,
   "metadata": {},
   "outputs": [
    {
     "name": "stdout",
     "output_type": "stream",
     "text": [
      "Bem vindo Guilherme Lucke!\n",
      "Bem vindo Clavin Klein!\n",
      "Bem vindo Maria Botafogo!\n",
      "Bem vindo Jonas Black!\n",
      "Bem vindo Eduardo Tornado!\n",
      "Bem vindo Pedro Lavros!\n",
      "Bem vindo Fabricia Flavin!\n"
     ]
    }
   ],
   "source": [
    "prompt = \"Qual o nome do convidado?\"\n",
    "prompt += \"\\n(Enter 'quit' when you are finished.) \"\n",
    "active = True\n",
    "filename = 'guest_book.txt'\n",
    "while active:\n",
    "    user_name = input(prompt)\n",
    "    if user_name == 'quit':\n",
    "        active = False\n",
    "    else:\n",
    "        print(\"Bem vindo \" + user_name.title() + \"!\")\n",
    "        with open(filename, 'a') as file_object:\n",
    "            file_object.write(user_name.title() + \"\\n\") \n"
   ]
  },
  {
   "attachments": {},
   "cell_type": "markdown",
   "metadata": {},
   "source": [
    "##### Exercício 10.5"
   ]
  },
  {
   "cell_type": "code",
   "execution_count": 24,
   "metadata": {},
   "outputs": [],
   "source": [
    "prompt = \"Por qual motivo você gosta de programação?\"\n",
    "prompt += \"\\n(Enter 'quit' when you are finished.) \"\n",
    "active = True\n",
    "filename = 'motivos.txt'\n",
    "while active:\n",
    "    resposta = input(prompt)\n",
    "    if resposta == 'quit':\n",
    "        active = False\n",
    "    else:\n",
    "        with open(filename, 'a') as file_object:\n",
    "            file_object.write(resposta + \"\\n\")\n"
   ]
  },
  {
   "attachments": {},
   "cell_type": "markdown",
   "metadata": {},
   "source": [
    "##### Exercício 10.6"
   ]
  },
  {
   "cell_type": "code",
   "execution_count": 34,
   "metadata": {},
   "outputs": [
    {
     "name": "stdout",
     "output_type": "stream",
     "text": [
      "Dê-me dois números e eu os somarei.\n",
      "Enter 'q' to quit.\n",
      "Você não digitou dois números!\n"
     ]
    }
   ],
   "source": [
    "print(\"Dê-me dois números e eu os somarei.\")\n",
    "print(\"Enter 'q' to quit.\")\n",
    "first_number = input(\"First number: \")\n",
    "second_number = input(\"Second number: \")\n",
    "try:\n",
    "    answer = int(first_number) + int(second_number)\n",
    "except ValueError:\n",
    "    print(\"Você não digitou dois números!\")\n",
    "else:\n",
    "    print(answer)\n"
   ]
  },
  {
   "attachments": {},
   "cell_type": "markdown",
   "metadata": {},
   "source": [
    "##### Exercício 10.7"
   ]
  },
  {
   "cell_type": "code",
   "execution_count": 37,
   "metadata": {},
   "outputs": [
    {
     "name": "stdout",
     "output_type": "stream",
     "text": [
      "Dê-me dois números e eu os somarei.\n",
      "Enter 'q' to quit.\n",
      "Você não digitou dois números!\n",
      "9\n"
     ]
    }
   ],
   "source": [
    "print(\"Dê-me dois números e eu os somarei.\")\n",
    "print(\"Enter 'q' to quit.\")\n",
    "while True:\n",
    "    first_number = input(\"\\nFirst number: \")\n",
    "    if first_number == 'q':\n",
    "        break\n",
    "    second_number = input(\"Second number: \")\n",
    "    if second_number == 'q':\n",
    "        break\n",
    "    try:\n",
    "        answer = int(first_number) + int(second_number)\n",
    "    except ValueError:\n",
    "        print(\"Você não digitou dois números!\")\n",
    "    else:\n",
    "        print(answer)\n"
   ]
  },
  {
   "attachments": {},
   "cell_type": "markdown",
   "metadata": {},
   "source": [
    "##### Exercício 10.8"
   ]
  },
  {
   "cell_type": "code",
   "execution_count": 41,
   "metadata": {},
   "outputs": [
    {
     "name": "stdout",
     "output_type": "stream",
     "text": [
      "bingola\n",
      "mussi\n",
      "ponei\n",
      "\n",
      "lessi\n",
      "bambi\n",
      "bolinha\n",
      "\n"
     ]
    }
   ],
   "source": [
    "def file_read(filename):\n",
    "    with open(filename) as file_object:\n",
    "        contents = file_object.read()\n",
    "        print(contents + \"\\n\")\n",
    "\n",
    "filename = 'cats.txt'\n",
    "file_read(filename)\n",
    "filename = 'dogs.txt'\n",
    "file_read(filename)\n"
   ]
  },
  {
   "cell_type": "code",
   "execution_count": 44,
   "metadata": {},
   "outputs": [
    {
     "name": "stdout",
     "output_type": "stream",
     "text": [
      "Esse arquivo não existe.\n",
      "\n",
      "lessi\n",
      "bambi\n",
      "bolinha\n",
      "\n"
     ]
    }
   ],
   "source": [
    "def file_read(filename):\n",
    "    try:\n",
    "        with open(filename) as file_object:\n",
    "            contents = file_object.read()\n",
    "            print(contents + \"\\n\")\n",
    "    except:\n",
    "        print(\"Esse arquivo não existe.\\n\")\n",
    "\n",
    "filename = 'cats.txt'\n",
    "file_read(filename)\n",
    "filename = 'dogs.txt'\n",
    "file_read(filename)\n"
   ]
  },
  {
   "attachments": {},
   "cell_type": "markdown",
   "metadata": {},
   "source": [
    "##### Exercício 10.9"
   ]
  },
  {
   "cell_type": "code",
   "execution_count": 45,
   "metadata": {},
   "outputs": [
    {
     "name": "stdout",
     "output_type": "stream",
     "text": [
      "lessi\n",
      "bambi\n",
      "bolinha\n",
      "\n"
     ]
    }
   ],
   "source": [
    "def file_read(filename):\n",
    "    try:\n",
    "        with open(filename) as file_object:\n",
    "            contents = file_object.read()\n",
    "            print(contents + \"\\n\")\n",
    "    except:\n",
    "        pass\n",
    "\n",
    "\n",
    "filename = 'cats.txt'\n",
    "file_read(filename)\n",
    "filename = 'dogs.txt'\n",
    "file_read(filename)\n"
   ]
  },
  {
   "attachments": {},
   "cell_type": "markdown",
   "metadata": {},
   "source": [
    "##### Exercício 10.10"
   ]
  },
  {
   "cell_type": "code",
   "execution_count": 49,
   "metadata": {},
   "outputs": [
    {
     "data": {
      "text/plain": [
       "2"
      ]
     },
     "execution_count": 49,
     "metadata": {},
     "output_type": "execute_result"
    }
   ],
   "source": [
    "line = \"Row, row, row your boat\"\n",
    "line.count('row')"
   ]
  },
  {
   "cell_type": "code",
   "execution_count": 50,
   "metadata": {},
   "outputs": [
    {
     "data": {
      "text/plain": [
       "3"
      ]
     },
     "execution_count": 50,
     "metadata": {},
     "output_type": "execute_result"
    }
   ],
   "source": [
    "line.lower().count('row')\n"
   ]
  },
  {
   "cell_type": "code",
   "execution_count": 64,
   "metadata": {},
   "outputs": [
    {
     "data": {
      "text/plain": [
       "7687"
      ]
     },
     "execution_count": 64,
     "metadata": {},
     "output_type": "execute_result"
    }
   ],
   "source": [
    "filename = 'dark_star.txt'\n",
    "with open(filename) as file_object:\n",
    "    contents = file_object.read()\n",
    "contents.count('the')\n"
   ]
  },
  {
   "attachments": {},
   "cell_type": "markdown",
   "metadata": {},
   "source": [
    "##### Exercício 10.11"
   ]
  },
  {
   "cell_type": "code",
   "execution_count": 2,
   "metadata": {},
   "outputs": [],
   "source": [
    "import json\n",
    "\n",
    "filename = 'favorite_number.json'\n",
    "favorite_number = input(\"Qual é o seu número favorito?\")\n",
    "with open(filename, 'w') as f_obj:\n",
    "    json.dump(favorite_number, f_obj)"
   ]
  },
  {
   "cell_type": "code",
   "execution_count": 4,
   "metadata": {},
   "outputs": [
    {
     "name": "stdout",
     "output_type": "stream",
     "text": [
      "Eu sei qual é seu número favorito!, É 3.\n"
     ]
    }
   ],
   "source": [
    "import json\n",
    "\n",
    "filename = 'favorite_number.json'\n",
    "with open(filename) as f_obj:\n",
    "    favorite_number = json.load(f_obj)\n",
    "    print(\"Eu sei qual é seu número favorito!, É \" + str(favorite_number) + \".\")\n"
   ]
  },
  {
   "cell_type": "markdown",
   "metadata": {},
   "source": [
    "##### Exercício 10.12"
   ]
  },
  {
   "cell_type": "code",
   "execution_count": 7,
   "metadata": {},
   "outputs": [
    {
     "name": "stdout",
     "output_type": "stream",
     "text": [
      "Eu sei qual é seu número favorito!, É 3.\n"
     ]
    }
   ],
   "source": [
    "import json\n",
    "\n",
    "filename = 'favorite_number.json'\n",
    "\n",
    "try:\n",
    "    with open(filename) as f_obj:\n",
    "        favorite_number = json.load(f_obj)\n",
    "except FileNotFoundError:\n",
    "    favorite_number = input(\"Qual é o seu número favorito?\")\n",
    "    with open(filename, 'w') as f_obj:\n",
    "        json.dump(favorite_number, f_obj)\n",
    "else:\n",
    "    print(\"Eu sei qual é seu número favorito!, É \" + str(favorite_number) + \".\")\n"
   ]
  },
  {
   "attachments": {},
   "cell_type": "markdown",
   "metadata": {},
   "source": [
    "##### Exercício 10.13"
   ]
  },
  {
   "cell_type": "code",
   "execution_count": 101,
   "metadata": {},
   "outputs": [],
   "source": [
    "import json\n",
    "\n",
    "\n",
    "def get_stored_username():\n",
    "    \"\"\"Obtém o nome do usuário já armazenado se estiver disponível.\"\"\"\n",
    "    filename = 'username.json'\n",
    "    try:\n",
    "        with open(filename) as f_obj:\n",
    "            username = json.load(f_obj)\n",
    "    except FileNotFoundError:\n",
    "        return None\n",
    "    else:\n",
    "        return username\n",
    "\n",
    "\n",
    "def get_new_username():\n",
    "    \"\"\"Pede um novo nome de usuário.\"\"\"\n",
    "    username = input(\"What is your name? \")\n",
    "    filename = 'username.json'\n",
    "    with open(filename, 'w') as f_obj:\n",
    "        json.dump(username, f_obj)\n",
    "        return username\n",
    "\n",
    "\n",
    "def get_verificacao(username):\n",
    "    \"\"\"Verifica se é o usuário correto.\"\"\"\n",
    "    while True:\n",
    "        prompt = \"Seu nome é \" + username.title() + \"?\"\n",
    "        prompt += \" (responda com 's' para sim ou 'n' para não)\"\n",
    "        resposta = input(prompt)\n",
    "        if resposta == 's':\n",
    "            return username\n",
    "        elif resposta == 'n':\n",
    "            username = get_new_username()\n",
    "            return username\n",
    "        else:\n",
    "            print(\"Resposta inválida!\")\n",
    "\n",
    "def greet_user():\n",
    "    \"\"\"Saúda o usuário pelo nome.\"\"\"\n",
    "    username = get_stored_username()\n",
    "    if username:\n",
    "        username = get_verificacao(username)\n",
    "        print(\"Welcome back, \" + username.title() + \"!\")\n",
    "    else:\n",
    "        username = get_new_username()\n",
    "        print(\"We'll remember you when you come back, \" + username.title() + \"!\")\n"
   ]
  },
  {
   "cell_type": "code",
   "execution_count": 104,
   "metadata": {},
   "outputs": [
    {
     "name": "stdout",
     "output_type": "stream",
     "text": [
      "Welcome back, Eric!\n"
     ]
    }
   ],
   "source": [
    "greet_user()\n"
   ]
  },
  {
   "cell_type": "code",
   "execution_count": null,
   "metadata": {},
   "outputs": [],
   "source": []
  }
 ],
 "metadata": {
  "kernelspec": {
   "display_name": ".venv",
   "language": "python",
   "name": "python3"
  },
  "language_info": {
   "codemirror_mode": {
    "name": "ipython",
    "version": 3
   },
   "file_extension": ".py",
   "mimetype": "text/x-python",
   "name": "python",
   "nbconvert_exporter": "python",
   "pygments_lexer": "ipython3",
   "version": "3.11.1"
  },
  "orig_nbformat": 4
 },
 "nbformat": 4,
 "nbformat_minor": 2
}
