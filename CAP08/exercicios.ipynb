{
 "cells": [
  {
   "attachments": {},
   "cell_type": "markdown",
   "metadata": {},
   "source": [
    "##### Exercício 8.1"
   ]
  },
  {
   "cell_type": "code",
   "execution_count": 3,
   "metadata": {},
   "outputs": [
    {
     "name": "stdout",
     "output_type": "stream",
     "text": [
      "Estou aprendendo funções em Python.\n"
     ]
    }
   ],
   "source": [
    "def display_message():\n",
    "    print(\"Estou aprendendo funções em Python.\")\n",
    "\n",
    "display_message()"
   ]
  },
  {
   "cell_type": "markdown",
   "metadata": {},
   "source": [
    "##### Exercício 8.2"
   ]
  },
  {
   "cell_type": "code",
   "execution_count": 4,
   "metadata": {},
   "outputs": [
    {
     "name": "stdout",
     "output_type": "stream",
     "text": [
      "Um dos meus livros favoritos é Harry Potter E A Pedra Filosofal.\n"
     ]
    }
   ],
   "source": [
    "def favorite_book(title):\n",
    "    print(\"Um dos meus livros favoritos é \" + title.title() + \".\")\n",
    "\n",
    "\n",
    "favorite_book('Harry Potter e a Pedra Filosofal')"
   ]
  },
  {
   "cell_type": "markdown",
   "metadata": {},
   "source": [
    "##### Exercício 8.3"
   ]
  },
  {
   "cell_type": "code",
   "execution_count": 5,
   "metadata": {},
   "outputs": [
    {
     "name": "stdout",
     "output_type": "stream",
     "text": [
      "A camiseta terá tamanho M.\n",
      "E a frase estampada será: Python é a melhor linguagem!\n",
      "A camiseta terá tamanho M.\n",
      "E a frase estampada será: Python é a melhor linguagem!\n"
     ]
    }
   ],
   "source": [
    "def make_shirt(tamanho, estampa):\n",
    "    print(\"A camiseta terá tamanho \" + tamanho + \".\")\n",
    "    print(\"E a frase estampada será: \" + estampa)\n",
    "\n",
    "\n",
    "make_shirt('M', \"Python é a melhor linguagem!\")\n",
    "make_shirt(estampa=\"Python é a melhor linguagem!\", tamanho='M')"
   ]
  },
  {
   "cell_type": "markdown",
   "metadata": {},
   "source": [
    "##### Exercício 8.4"
   ]
  },
  {
   "cell_type": "code",
   "execution_count": 6,
   "metadata": {},
   "outputs": [
    {
     "name": "stdout",
     "output_type": "stream",
     "text": [
      "A camiseta terá tamanho G.\n",
      "E a frase estampada será: Eu amo Python!\n"
     ]
    }
   ],
   "source": [
    "def make_shirt(estampa, tamanho='G'):\n",
    "    print(\"A camiseta terá tamanho \" + tamanho + \".\")\n",
    "    print(\"E a frase estampada será: \" + estampa)\n",
    "\n",
    "\n",
    "make_shirt(\"Eu amo Python!\")"
   ]
  },
  {
   "cell_type": "code",
   "execution_count": 7,
   "metadata": {},
   "outputs": [
    {
     "name": "stdout",
     "output_type": "stream",
     "text": [
      "A camiseta terá tamanho M.\n",
      "E a frase estampada será: Eu amo Python!\n",
      "A camiseta terá tamanho G.\n",
      "E a frase estampada será: Eu amo Python!\n",
      "A camiseta terá tamanho P.\n",
      "E a frase estampada será: Eu amo R!\n"
     ]
    }
   ],
   "source": [
    "def make_shirt(tamanho, estampa=\"Eu amo Python!\"):\n",
    "    print(\"A camiseta terá tamanho \" + tamanho + \".\")\n",
    "    print(\"E a frase estampada será: \" + estampa)\n",
    "\n",
    "\n",
    "make_shirt('M')\n",
    "make_shirt('G')\n",
    "make_shirt(tamanho='P', estampa=\"Eu amo R!\")"
   ]
  },
  {
   "cell_type": "markdown",
   "metadata": {},
   "source": [
    "##### Exercício 8.5"
   ]
  },
  {
   "cell_type": "code",
   "execution_count": 8,
   "metadata": {},
   "outputs": [
    {
     "name": "stdout",
     "output_type": "stream",
     "text": [
      "Rancharia está localizada na Brasil.\n",
      "Presidente Prudente está localizada na Brasil.\n",
      "Londres está localizada na Inglaterra.\n"
     ]
    }
   ],
   "source": [
    "def describe_city(nome, pais='Brasil'):\n",
    "    print(nome + \" está localizada na \" + pais + \".\")\n",
    "\n",
    "\n",
    "describe_city('Rancharia')\n",
    "describe_city('Presidente Prudente')\n",
    "describe_city(nome='Londres', pais='Inglaterra')"
   ]
  },
  {
   "cell_type": "markdown",
   "metadata": {},
   "source": [
    "##### Exercício 8.6"
   ]
  },
  {
   "cell_type": "code",
   "execution_count": 9,
   "metadata": {},
   "outputs": [
    {
     "name": "stdout",
     "output_type": "stream",
     "text": [
      "Rancharia, Brasil.\n",
      "Santiago, Chile.\n",
      "Londres, Inglaterra.\n"
     ]
    }
   ],
   "source": [
    "def city_country(cidade, pais):\n",
    "    formatado = print(cidade.title() + \", \" + pais.title() + \".\")\n",
    "    return formatado\n",
    "city_country('rancharia', 'brasil')\n",
    "city_country('santiago', 'chile')\n",
    "city_country('londres', 'inglaterra')"
   ]
  },
  {
   "cell_type": "markdown",
   "metadata": {},
   "source": [
    "##### Exercício 8.7"
   ]
  },
  {
   "cell_type": "code",
   "execution_count": 10,
   "metadata": {},
   "outputs": [
    {
     "name": "stdout",
     "output_type": "stream",
     "text": [
      "{'name': 'Harry Styles', 'title': \"Harry's House\"}\n",
      "{'name': 'Olivia Rodrigo', 'title': 'Sour'}\n",
      "{'name': 'Ed Sheeran', 'title': '÷'}\n",
      "{'name': 'Taylor Swift', 'title': 'Midnights', 'faixas': 13}\n"
     ]
    }
   ],
   "source": [
    "def make_album(artista, album_title, number=''):\n",
    "    descricao = {'name': artista, 'title': album_title}\n",
    "    if number:\n",
    "        descricao['faixas'] = number\n",
    "    return descricao\n",
    "album = make_album('Harry Styles', \"Harry's House\")\n",
    "print(album)\n",
    "album = make_album('Olivia Rodrigo', \"Sour\")\n",
    "print(album)\n",
    "album = make_album('Ed Sheeran', \"÷\")\n",
    "print(album)\n",
    "album = make_album('Taylor Swift', \"Midnights\", number=13)\n",
    "print(album)"
   ]
  },
  {
   "cell_type": "markdown",
   "metadata": {},
   "source": [
    "##### Exercício 8.8"
   ]
  },
  {
   "cell_type": "code",
   "execution_count": 12,
   "metadata": {},
   "outputs": [
    {
     "name": "stdout",
     "output_type": "stream",
     "text": [
      "ed sheeran, x.\n",
      "olivia rodrigo, sour.\n"
     ]
    }
   ],
   "source": [
    "def make_album(artista, album_title):\n",
    "    descricao = {'name': artista, 'title': album_title}\n",
    "    return descricao\n",
    "\n",
    "while True:\n",
    "    repeat = \"(enter 'q' at any time to quit)\"\n",
    "    nome_artista = input(\"Qual o nome do artista? \" + \"\\n\" + repeat)\n",
    "    if nome_artista == 'q':\n",
    "        break\n",
    "    titulo_album = input(\"Qual o título do álbum? \"  + \"\\n\" + repeat)\n",
    "    if titulo_album == 'q':\n",
    "        break\n",
    "    album = make_album(nome_artista, titulo_album)\n",
    "    formatado = print(album['name'] + \", \" + album['title'] + \".\")"
   ]
  },
  {
   "cell_type": "markdown",
   "metadata": {},
   "source": [
    "##### Exercício 8.9"
   ]
  },
  {
   "cell_type": "code",
   "execution_count": 13,
   "metadata": {},
   "outputs": [
    {
     "name": "stdout",
     "output_type": "stream",
     "text": [
      "Atlas\n",
      "Rhodes\n",
      "Wilder\n"
     ]
    }
   ],
   "source": [
    "def show_magicians(magician_names):\n",
    "    for magician_name in magician_names:\n",
    "        print(magician_name.title())\n",
    "\n",
    "magician_names = ['atlas', 'rhodes', 'wilder']\n",
    "\n",
    "show_magicians(magician_names)\n"
   ]
  },
  {
   "cell_type": "markdown",
   "metadata": {},
   "source": [
    "##### Exercício 8.10"
   ]
  },
  {
   "cell_type": "code",
   "execution_count": 14,
   "metadata": {},
   "outputs": [
    {
     "name": "stdout",
     "output_type": "stream",
     "text": [
      "Grande Wilder\n",
      "Grande Grande Rhodes\n",
      "Grande Grande Grande Atlas\n",
      "Atlas\n",
      "Rhodes\n",
      "Wilder\n"
     ]
    }
   ],
   "source": [
    "def show_magicians(magician_names):\n",
    "    for magician_name in magician_names:\n",
    "        print(magician_name.title())\n",
    "\n",
    "def make_great(magician_names, nova_lista):\n",
    "    while magician_names:\n",
    "        i = 0\n",
    "        for magician_name in magician_names:\n",
    "            magician_name = \"grande \" + magician_name\n",
    "            magician_names[i] = magician_name\n",
    "            i+=1\n",
    "        current = magician_names.pop()\n",
    "        nova_lista.append(current)\n",
    "\n",
    "magician_names = ['atlas', 'rhodes', 'wilder']\n",
    "nova_lista = []\n",
    "\n",
    "make_great(magician_names[:], nova_lista)\n",
    "show_magicians(nova_lista)\n",
    "show_magicians(magician_names)\n",
    "\n"
   ]
  },
  {
   "cell_type": "code",
   "execution_count": 15,
   "metadata": {},
   "outputs": [
    {
     "data": {
      "text/plain": [
       "['atlas', 'rhodes', 'wilder']"
      ]
     },
     "execution_count": 15,
     "metadata": {},
     "output_type": "execute_result"
    }
   ],
   "source": [
    "magician_names"
   ]
  },
  {
   "cell_type": "markdown",
   "metadata": {},
   "source": [
    "##### Exercício 8.11"
   ]
  },
  {
   "cell_type": "code",
   "execution_count": 16,
   "metadata": {},
   "outputs": [
    {
     "name": "stdout",
     "output_type": "stream",
     "text": [
      "Atlas\n",
      "Rhodes\n",
      "Wilder\n"
     ]
    }
   ],
   "source": [
    "def show_magicians(magician_names):\n",
    "    for magician_name in magician_names:\n",
    "        print(magician_name.title())\n",
    "\n",
    "def make_great(magician_names):\n",
    "   i = 0\n",
    "   for magician_name in magician_names:\n",
    "        magician_name = \"grande \" + magician_name\n",
    "        magician_names[i] = magician_name\n",
    "        i+=1\n",
    "\n",
    "magician_names = ['atlas', 'rhodes', 'wilder']\n",
    "\n",
    "make_great(magician_names[:])\n",
    "\n",
    "show_magicians(magician_names)"
   ]
  },
  {
   "cell_type": "markdown",
   "metadata": {},
   "source": [
    "##### Exercício 8.12"
   ]
  },
  {
   "cell_type": "code",
   "execution_count": 17,
   "metadata": {},
   "outputs": [
    {
     "name": "stdout",
     "output_type": "stream",
     "text": [
      "\n",
      "Sanduiche com recheio de:\n",
      "frango\n",
      "\n",
      "Sanduiche com recheio de:\n",
      "carne\n",
      "tomate\n",
      "\n",
      "Sanduiche com recheio de:\n",
      "linguiça\n",
      "queijo\n",
      "picles\n"
     ]
    }
   ],
   "source": [
    "def sanduiche(*recheios):\n",
    "    print(\"\\nSanduiche com recheio de:\")\n",
    "    for recheio in recheios:\n",
    "        print(recheio)\n",
    "\n",
    "sanduiche('frango')\n",
    "sanduiche('carne', 'tomate')\n",
    "sanduiche('linguiça', 'queijo', 'picles')"
   ]
  },
  {
   "cell_type": "markdown",
   "metadata": {},
   "source": [
    "##### Exercício 8.13"
   ]
  },
  {
   "cell_type": "code",
   "execution_count": 18,
   "metadata": {},
   "outputs": [
    {
     "name": "stdout",
     "output_type": "stream",
     "text": [
      "{'first_name': 'guilherme', 'last_name': 'lucke', 'cabelo': 'calvo', 'peso': 70, 'altura': 1.72}\n"
     ]
    }
   ],
   "source": [
    "def build_profile(first, last, **user_info):\n",
    "    \"\"\"Constrí um dicionário contendo tudo que sabemos sobre um usuário.\"\"\"\n",
    "    profile ={}\n",
    "    profile['first_name'] = first\n",
    "    profile['last_name'] = last\n",
    "    for key, value in user_info.items():\n",
    "        profile[key] = value\n",
    "    return profile\n",
    "\n",
    "user_profile = build_profile('guilherme', 'lucke', cabelo='calvo', peso=70, altura=1.72)\n",
    "print(user_profile)"
   ]
  },
  {
   "cell_type": "markdown",
   "metadata": {},
   "source": [
    "##### Exercício 8.14"
   ]
  },
  {
   "cell_type": "code",
   "execution_count": 19,
   "metadata": {},
   "outputs": [
    {
     "name": "stdout",
     "output_type": "stream",
     "text": [
      "{'fabricante': 'subaru', 'modelo': 'outback', 'color': 'blue', 'toW_package': True}\n"
     ]
    }
   ],
   "source": [
    "def carros(nome_fabricante, modelo, **info_carros):\n",
    "    profile = {}\n",
    "    profile['fabricante'] = nome_fabricante\n",
    "    profile['modelo'] = modelo\n",
    "    for key, value in info_carros.items():\n",
    "        profile[key] = value\n",
    "    return profile\n",
    "\n",
    "profile_car = carros('subaru', 'outback', color= 'blue', toW_package=True)\n",
    "print(profile_car)"
   ]
  },
  {
   "cell_type": "markdown",
   "metadata": {},
   "source": [
    "##### Exercício 8.15"
   ]
  },
  {
   "cell_type": "code",
   "execution_count": 20,
   "metadata": {},
   "outputs": [
    {
     "name": "stdout",
     "output_type": "stream",
     "text": [
      "Printing model: dodecahedron\n",
      "Printing model: robot pendant\n",
      "Printing model: iphone case\n",
      "\n",
      "The fllowing models have been printed:\n",
      "dodecahedron\n",
      "robot pendant\n",
      "iphone case\n"
     ]
    }
   ],
   "source": [
    "import printing_functions\n",
    "unprinted_designs = ['iphone case', 'robot pendant', 'dodecahedron']\n",
    "completed_models = []\n",
    "\n",
    "printing_functions.print_models(unprinted_designs, completed_models)\n",
    "printing_functions.show_completed_models(completed_models)\n"
   ]
  },
  {
   "cell_type": "markdown",
   "metadata": {},
   "source": [
    "##### Exercício 8.16"
   ]
  },
  {
   "cell_type": "code",
   "execution_count": 21,
   "metadata": {},
   "outputs": [
    {
     "name": "stdout",
     "output_type": "stream",
     "text": [
      "\n",
      "Sanduiche com recheio de:\n",
      "frango\n",
      "\n",
      "Sanduiche com recheio de:\n",
      "carne\n",
      "tomate\n",
      "\n",
      "Sanduiche com recheio de:\n",
      "linguiça\n",
      "queijo\n",
      "picles\n"
     ]
    }
   ],
   "source": [
    "import sandwich_functions\n",
    "sandwich_functions.sanduiche('frango')\n",
    "sandwich_functions.sanduiche('carne', 'tomate')\n",
    "sandwich_functions.sanduiche('linguiça', 'queijo', 'picles')\n"
   ]
  },
  {
   "cell_type": "code",
   "execution_count": 22,
   "metadata": {},
   "outputs": [
    {
     "name": "stdout",
     "output_type": "stream",
     "text": [
      "\n",
      "Sanduiche com recheio de:\n",
      "frango\n",
      "\n",
      "Sanduiche com recheio de:\n",
      "carne\n",
      "tomate\n",
      "\n",
      "Sanduiche com recheio de:\n",
      "linguiça\n",
      "queijo\n",
      "picles\n"
     ]
    }
   ],
   "source": [
    "from sandwich_functions import sanduiche\n",
    "sanduiche('frango')\n",
    "sanduiche('carne', 'tomate')\n",
    "sanduiche('linguiça', 'queijo', 'picles')\n"
   ]
  },
  {
   "cell_type": "code",
   "execution_count": 23,
   "metadata": {},
   "outputs": [
    {
     "name": "stdout",
     "output_type": "stream",
     "text": [
      "\n",
      "Sanduiche com recheio de:\n",
      "frango\n",
      "\n",
      "Sanduiche com recheio de:\n",
      "carne\n",
      "tomate\n",
      "\n",
      "Sanduiche com recheio de:\n",
      "linguiça\n",
      "queijo\n",
      "picles\n"
     ]
    }
   ],
   "source": [
    "from sandwich_functions import sanduiche as sw\n",
    "sw('frango')\n",
    "sw('carne', 'tomate')\n",
    "sw('linguiça', 'queijo', 'picles')\n"
   ]
  },
  {
   "cell_type": "code",
   "execution_count": 24,
   "metadata": {},
   "outputs": [
    {
     "name": "stdout",
     "output_type": "stream",
     "text": [
      "\n",
      "Sanduiche com recheio de:\n",
      "frango\n",
      "\n",
      "Sanduiche com recheio de:\n",
      "carne\n",
      "tomate\n",
      "\n",
      "Sanduiche com recheio de:\n",
      "linguiça\n",
      "queijo\n",
      "picles\n"
     ]
    }
   ],
   "source": [
    "import sandwich_functions as sf\n",
    "sf.sanduiche('frango')\n",
    "sf.sanduiche('carne', 'tomate')\n",
    "sf.sanduiche('linguiça', 'queijo', 'picles')\n"
   ]
  },
  {
   "cell_type": "code",
   "execution_count": 25,
   "metadata": {},
   "outputs": [
    {
     "name": "stdout",
     "output_type": "stream",
     "text": [
      "\n",
      "Sanduiche com recheio de:\n",
      "frango\n",
      "\n",
      "Sanduiche com recheio de:\n",
      "carne\n",
      "tomate\n",
      "\n",
      "Sanduiche com recheio de:\n",
      "linguiça\n",
      "queijo\n",
      "picles\n"
     ]
    }
   ],
   "source": [
    "from sandwich_functions import *\n",
    "sanduiche('frango')\n",
    "sanduiche('carne', 'tomate')\n",
    "sanduiche('linguiça', 'queijo', 'picles')\n"
   ]
  },
  {
   "cell_type": "code",
   "execution_count": null,
   "metadata": {},
   "outputs": [],
   "source": []
  }
 ],
 "metadata": {
  "kernelspec": {
   "display_name": "Python 3",
   "language": "python",
   "name": "python3"
  },
  "language_info": {
   "codemirror_mode": {
    "name": "ipython",
    "version": 3
   },
   "file_extension": ".py",
   "mimetype": "text/x-python",
   "name": "python",
   "nbconvert_exporter": "python",
   "pygments_lexer": "ipython3",
   "version": "3.12.1"
  },
  "orig_nbformat": 4,
  "vscode": {
   "interpreter": {
    "hash": "159160c861b0dc7ef78d43561c27cc0b547674b74ca6df5fb53e017a30b5f3b3"
   }
  }
 },
 "nbformat": 4,
 "nbformat_minor": 2
}
