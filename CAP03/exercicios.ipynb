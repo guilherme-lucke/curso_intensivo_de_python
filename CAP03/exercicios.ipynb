{
 "cells": [
  {
   "cell_type": "markdown",
   "metadata": {},
   "source": [
    "##### Exercício 3.1"
   ]
  },
  {
   "cell_type": "code",
   "execution_count": 1,
   "metadata": {},
   "outputs": [
    {
     "name": "stdout",
     "output_type": "stream",
     "text": [
      "Gabriel\n",
      "Livia\n",
      "Vitelas\n"
     ]
    }
   ],
   "source": [
    "friends_list = [\"gabriel\", \"livia\", \"vitelas\"]\n",
    "print(friends_list[0].title())\n",
    "print(friends_list[1].title())\n",
    "print(friends_list[2].title())"
   ]
  },
  {
   "cell_type": "markdown",
   "metadata": {},
   "source": [
    "##### Exercício 3.2"
   ]
  },
  {
   "cell_type": "code",
   "execution_count": 2,
   "metadata": {},
   "outputs": [
    {
     "name": "stdout",
     "output_type": "stream",
     "text": [
      "E ai Gabriel, como vai?\n",
      "E ai Livia, como vai?\n",
      "E ai Vitelas, como vai?\n"
     ]
    }
   ],
   "source": [
    "friends_list = [\"gabriel\", \"livia\", \"vitelas\"]\n",
    "print(\"E ai \" + friends_list[0].title() + \", como vai?\")\n",
    "print(\"E ai \" + friends_list[1].title() + \", como vai?\")\n",
    "print(\"E ai \" + friends_list[2].title() + \", como vai?\")"
   ]
  },
  {
   "cell_type": "markdown",
   "metadata": {},
   "source": [
    "##### Exercício 3.3"
   ]
  },
  {
   "cell_type": "code",
   "execution_count": 3,
   "metadata": {},
   "outputs": [
    {
     "name": "stdout",
     "output_type": "stream",
     "text": [
      "Gostaria de ter um Smartwatch da Amazfit.\n",
      "Quero trocar meu celular por um Smartphone da Samsung.\n",
      "Um Notbook da Microsoft seria muito util.\n"
     ]
    }
   ],
   "source": [
    "wishlist = [\"smartwatch\", \"smartphone\", \"notbook\"]\n",
    "print(\"Gostaria de ter um \" + wishlist[0].title() + \" da Amazfit.\")\n",
    "print(\"Quero trocar meu celular por um \" + wishlist[1].title()  + \" da Samsung.\")\n",
    "print(\"Um \" + wishlist[2].title() + \" da Microsoft seria muito util.\")"
   ]
  },
  {
   "cell_type": "markdown",
   "metadata": {},
   "source": [
    "##### Exercício 3.4"
   ]
  },
  {
   "cell_type": "code",
   "execution_count": 4,
   "metadata": {},
   "outputs": [
    {
     "name": "stdout",
     "output_type": "stream",
     "text": [
      "E ai Leonardo Tadeu,\n",
      "Estou convidado algumas pessoas para comer pizza aqui em casa na sexta, topa?\n",
      "\n",
      "E ai Christian Barbosa,\n",
      "Estou convidado algumas pessoas para comer pizza aqui em casa na sexta, topa?\n",
      "\n",
      "E ai Jerry Strazzeri,\n",
      "Estou convidado algumas pessoas para comer pizza aqui em casa na sexta, topa?\n",
      "\n"
     ]
    }
   ],
   "source": [
    "lista_de_convidados = [\"Leonardo Tadeu\", \"Christian Barbosa\", \"Jerry Strazzeri\"]\n",
    "print(\"E ai \" + lista_de_convidados[0].title() + \",\\nEstou convidado algumas pessoas para comer pizza aqui em casa na sexta, topa?\\n\")\n",
    "print(\"E ai \" + lista_de_convidados[1].title() + \",\\nEstou convidado algumas pessoas para comer pizza aqui em casa na sexta, topa?\\n\")\n",
    "print(\"E ai \" + lista_de_convidados[2].title() + \",\\nEstou convidado algumas pessoas para comer pizza aqui em casa na sexta, topa?\\n\")"
   ]
  },
  {
   "cell_type": "markdown",
   "metadata": {},
   "source": [
    "##### Exercício 3.5"
   ]
  },
  {
   "cell_type": "code",
   "execution_count": 5,
   "metadata": {},
   "outputs": [
    {
     "name": "stdout",
     "output_type": "stream",
     "text": [
      "E ai Leonardo Tadeu,\n",
      "Estou convidado algumas pessoas para comer pizza aqui em casa na sexta, topa?\n",
      "\n",
      "E ai Christian Barbosa,\n",
      "Estou convidado algumas pessoas para comer pizza aqui em casa na sexta, topa?\n",
      "\n",
      "E ai Jerry Strazzeri,\n",
      "Estou convidado algumas pessoas para comer pizza aqui em casa na sexta, topa?\n",
      "\n",
      "Leonardo Tadeu nao podera comparecer.\n",
      "\n",
      "E ai Victor Sotero,\n",
      "Estou convidado algumas pessoas para comer pizza aqui em casa na sexta, topa?\n",
      "\n",
      "E ai Christian Barbosa,\n",
      "Estou convidado algumas pessoas para comer pizza aqui em casa na sexta, topa?\n",
      "\n",
      "E ai Jerry Strazzeri,\n",
      "Estou convidado algumas pessoas para comer pizza aqui em casa na sexta, topa?\n",
      "\n"
     ]
    }
   ],
   "source": [
    "lista_de_convidados = [\"leonardo tadeu\", \"christian barbosa\", \"jerry strazzeri\"]\n",
    "print(\"E ai \" + lista_de_convidados[0].title() + \",\\nEstou convidado algumas pessoas para comer pizza aqui em casa na sexta, topa?\\n\")\n",
    "print(\"E ai \" + lista_de_convidados[1].title() + \",\\nEstou convidado algumas pessoas para comer pizza aqui em casa na sexta, topa?\\n\")\n",
    "print(\"E ai \" + lista_de_convidados[2].title() + \",\\nEstou convidado algumas pessoas para comer pizza aqui em casa na sexta, topa?\\n\")\n",
    "print(lista_de_convidados[0].title() + \" nao podera comparecer.\\n\")\n",
    "lista_de_convidados[0] = \"victor sotero\"\n",
    "print(\"E ai \" + lista_de_convidados[0].title() + \",\\nEstou convidado algumas pessoas para comer pizza aqui em casa na sexta, topa?\\n\")\n",
    "print(\"E ai \" + lista_de_convidados[1].title() + \",\\nEstou convidado algumas pessoas para comer pizza aqui em casa na sexta, topa?\\n\")\n",
    "print(\"E ai \" + lista_de_convidados[2].title() + \",\\nEstou convidado algumas pessoas para comer pizza aqui em casa na sexta, topa?\\n\")"
   ]
  },
  {
   "cell_type": "markdown",
   "metadata": {},
   "source": [
    "##### Exercício 3.6"
   ]
  },
  {
   "cell_type": "code",
   "execution_count": 6,
   "metadata": {},
   "outputs": [
    {
     "name": "stdout",
     "output_type": "stream",
     "text": [
      "E ai Leonardo Tadeu,\n",
      "Estou convidado algumas pessoas para comer pizza aqui em casa na sexta, topa?\n",
      "\n",
      "E ai Christian Barbosa,\n",
      "Estou convidado algumas pessoas para comer pizza aqui em casa na sexta, topa?\n",
      "\n",
      "E ai Jerry Strazzeri,\n",
      "Estou convidado algumas pessoas para comer pizza aqui em casa na sexta, topa?\n",
      "\n",
      "Leonardo Tadeu nao podera comparecer.\n",
      "\n",
      "E ai Victor Sotero,\n",
      "Estou convidado algumas pessoas para comer pizza aqui em casa na sexta, topa?\n",
      "\n",
      "E ai Christian Barbosa,\n",
      "Estou convidado algumas pessoas para comer pizza aqui em casa na sexta, topa?\n",
      "\n",
      "E ai Jerry Strazzeri,\n",
      "Estou convidado algumas pessoas para comer pizza aqui em casa na sexta, topa?\n",
      "\n",
      "Resolvi fazer a pizza na minha outra casa, la o espaço e maior.\n",
      "\n",
      "E ai Kobe Bryant,\n",
      "Estou convidado algumas pessoas para comer pizza aqui em casa na sexta, topa?\n",
      "\n",
      "E ai Neymar,\n",
      "Estou convidado algumas pessoas para comer pizza aqui em casa na sexta, topa?\n",
      "\n",
      "E ai Victor Sotero,\n",
      "Estou convidado algumas pessoas para comer pizza aqui em casa na sexta, topa?\n",
      "\n",
      "E ai Christian Barbosa,\n",
      "Estou convidado algumas pessoas para comer pizza aqui em casa na sexta, topa?\n",
      "\n",
      "E ai Jerry Strazzeri,\n",
      "Estou convidado algumas pessoas para comer pizza aqui em casa na sexta, topa?\n",
      "\n",
      "E ai Jeff Bezos,\n",
      "Estou convidado algumas pessoas para comer pizza aqui em casa na sexta, topa?\n",
      "\n"
     ]
    }
   ],
   "source": [
    "lista_de_convidados = [\"leonardo tadeu\", \"christian barbosa\", \"jerry strazzeri\"]\n",
    "print(\"E ai \" + lista_de_convidados[0].title() + \",\\nEstou convidado algumas pessoas para comer pizza aqui em casa na sexta, topa?\\n\")\n",
    "print(\"E ai \" + lista_de_convidados[1].title() + \",\\nEstou convidado algumas pessoas para comer pizza aqui em casa na sexta, topa?\\n\")\n",
    "print(\"E ai \" + lista_de_convidados[2].title() + \",\\nEstou convidado algumas pessoas para comer pizza aqui em casa na sexta, topa?\\n\")\n",
    "print(lista_de_convidados[0].title() + \" nao podera comparecer.\\n\")\n",
    "lista_de_convidados[0] = \"victor sotero\"\n",
    "print(\"E ai \" + lista_de_convidados[0].title() + \",\\nEstou convidado algumas pessoas para comer pizza aqui em casa na sexta, topa?\\n\")\n",
    "print(\"E ai \" + lista_de_convidados[1].title() + \",\\nEstou convidado algumas pessoas para comer pizza aqui em casa na sexta, topa?\\n\")\n",
    "print(\"E ai \" + lista_de_convidados[2].title() + \",\\nEstou convidado algumas pessoas para comer pizza aqui em casa na sexta, topa?\\n\")\n",
    "print(\"Resolvi fazer a pizza na minha outra casa, la o espaço e maior.\\n\")\n",
    "lista_de_convidados.insert(0, \"kobe bryant\")\n",
    "lista_de_convidados.insert(1, \"neymar\")\n",
    "lista_de_convidados.append(\"jeff bezos\")\n",
    "print(\"E ai \" + lista_de_convidados[0].title() + \",\\nEstou convidado algumas pessoas para comer pizza aqui em casa na sexta, topa?\\n\")\n",
    "print(\"E ai \" + lista_de_convidados[1].title() + \",\\nEstou convidado algumas pessoas para comer pizza aqui em casa na sexta, topa?\\n\")\n",
    "print(\"E ai \" + lista_de_convidados[2].title() + \",\\nEstou convidado algumas pessoas para comer pizza aqui em casa na sexta, topa?\\n\")\n",
    "print(\"E ai \" + lista_de_convidados[3].title() + \",\\nEstou convidado algumas pessoas para comer pizza aqui em casa na sexta, topa?\\n\")\n",
    "print(\"E ai \" + lista_de_convidados[4].title() + \",\\nEstou convidado algumas pessoas para comer pizza aqui em casa na sexta, topa?\\n\")\n",
    "print(\"E ai \" + lista_de_convidados[5].title() + \",\\nEstou convidado algumas pessoas para comer pizza aqui em casa na sexta, topa?\\n\")"
   ]
  },
  {
   "cell_type": "markdown",
   "metadata": {},
   "source": [
    "##### Exercício 3.7"
   ]
  },
  {
   "cell_type": "code",
   "execution_count": 7,
   "metadata": {},
   "outputs": [
    {
     "name": "stdout",
     "output_type": "stream",
     "text": [
      "E ai Leonardo Tadeu,\n",
      "Estou convidado algumas pessoas para comer pizza aqui em casa na sexta, topa?\n",
      "\n",
      "E ai Christian Barbosa,\n",
      "Estou convidado algumas pessoas para comer pizza aqui em casa na sexta, topa?\n",
      "\n",
      "E ai Jerry Strazzeri,\n",
      "Estou convidado algumas pessoas para comer pizza aqui em casa na sexta, topa?\n",
      "\n",
      "Leonardo Tadeu nao podera comparecer.\n",
      "\n",
      "E ai Victor Sotero,\n",
      "Estou convidado algumas pessoas para comer pizza aqui em casa na sexta, topa?\n",
      "\n",
      "E ai Christian Barbosa,\n",
      "Estou convidado algumas pessoas para comer pizza aqui em casa na sexta, topa?\n",
      "\n",
      "E ai Jerry Strazzeri,\n",
      "Estou convidado algumas pessoas para comer pizza aqui em casa na sexta, topa?\n",
      "\n",
      "Resolvi fazer a pizza na minha outra casa, la o espaço e maior.\n",
      "\n",
      "E ai Kobe Bryant,\n",
      "Estou convidado algumas pessoas para comer pizza aqui em casa na sexta, topa?\n",
      "\n",
      "E ai Neymar,\n",
      "Estou convidado algumas pessoas para comer pizza aqui em casa na sexta, topa?\n",
      "\n",
      "E ai Victor Sotero,\n",
      "Estou convidado algumas pessoas para comer pizza aqui em casa na sexta, topa?\n",
      "\n",
      "E ai Christian Barbosa,\n",
      "Estou convidado algumas pessoas para comer pizza aqui em casa na sexta, topa?\n",
      "\n",
      "E ai Jerry Strazzeri,\n",
      "Estou convidado algumas pessoas para comer pizza aqui em casa na sexta, topa?\n",
      "\n",
      "E ai Jeff Bezos,\n",
      "Estou convidado algumas pessoas para comer pizza aqui em casa na sexta, topa?\n",
      "\n",
      "Minha duas casa irao entrar em reforma, entao vou convidar apenas duas pessoas para comer pizza na pizzaria do lado de casa.\n",
      "\n",
      "Sinto muito Neymar, porem nao vou poder convida-lo para comer pizza.\n",
      "\n",
      "Sinto muito Victor Sotero, porem nao vou poder convida-lo para comer pizza.\n",
      "\n",
      "Sinto muito Christian Barbosa, porem nao vou poder convida-lo para comer pizza.\n",
      "\n",
      "Sinto muito Jerry Strazzeri, porem nao vou poder convida-lo para comer pizza.\n",
      "\n",
      "E ai Kobe Bryant, voce ainda esta convidado para pizza na sexta.\n",
      "\n",
      "E ai Jeff Bezos, voce ainda esta convidado para pizza na sexta.\n",
      "\n",
      "[]\n",
      "\n",
      "\n"
     ]
    }
   ],
   "source": [
    "lista_de_convidados = [\"leonardo tadeu\", \"christian barbosa\", \"jerry strazzeri\"]\n",
    "print(\"E ai \" + lista_de_convidados[0].title() + \",\\nEstou convidado algumas pessoas para comer pizza aqui em casa na sexta, topa?\\n\")\n",
    "print(\"E ai \" + lista_de_convidados[1].title() + \",\\nEstou convidado algumas pessoas para comer pizza aqui em casa na sexta, topa?\\n\")\n",
    "print(\"E ai \" + lista_de_convidados[2].title() + \",\\nEstou convidado algumas pessoas para comer pizza aqui em casa na sexta, topa?\\n\")\n",
    "print(lista_de_convidados[0].title() + \" nao podera comparecer.\\n\")\n",
    "lista_de_convidados[0] = \"victor sotero\"\n",
    "print(\"E ai \" + lista_de_convidados[0].title() + \",\\nEstou convidado algumas pessoas para comer pizza aqui em casa na sexta, topa?\\n\")\n",
    "print(\"E ai \" + lista_de_convidados[1].title() + \",\\nEstou convidado algumas pessoas para comer pizza aqui em casa na sexta, topa?\\n\")\n",
    "print(\"E ai \" + lista_de_convidados[2].title() + \",\\nEstou convidado algumas pessoas para comer pizza aqui em casa na sexta, topa?\\n\")\n",
    "print(\"Resolvi fazer a pizza na minha outra casa, la o espaço e maior.\\n\")\n",
    "lista_de_convidados.insert(0, \"kobe bryant\")\n",
    "lista_de_convidados.insert(1, \"neymar\")\n",
    "lista_de_convidados.append(\"jeff bezos\")\n",
    "print(\"E ai \" + lista_de_convidados[0].title() + \",\\nEstou convidado algumas pessoas para comer pizza aqui em casa na sexta, topa?\\n\")\n",
    "print(\"E ai \" + lista_de_convidados[1].title() + \",\\nEstou convidado algumas pessoas para comer pizza aqui em casa na sexta, topa?\\n\")\n",
    "print(\"E ai \" + lista_de_convidados[2].title() + \",\\nEstou convidado algumas pessoas para comer pizza aqui em casa na sexta, topa?\\n\")\n",
    "print(\"E ai \" + lista_de_convidados[3].title() + \",\\nEstou convidado algumas pessoas para comer pizza aqui em casa na sexta, topa?\\n\")\n",
    "print(\"E ai \" + lista_de_convidados[4].title() + \",\\nEstou convidado algumas pessoas para comer pizza aqui em casa na sexta, topa?\\n\")\n",
    "print(\"E ai \" + lista_de_convidados[5].title() + \",\\nEstou convidado algumas pessoas para comer pizza aqui em casa na sexta, topa?\\n\")\n",
    "print(\"Minha duas casa irao entrar em reforma, entao vou convidar apenas duas pessoas para comer pizza na pizzaria do lado de casa.\\n\")\n",
    "c1 = lista_de_convidados.pop(1)\n",
    "print(\"Sinto muito \" + c1.title() + \", porem nao vou poder convida-lo para comer pizza.\\n\")\n",
    "c2 = lista_de_convidados.pop(1)\n",
    "print(\"Sinto muito \" + c2.title() + \", porem nao vou poder convida-lo para comer pizza.\\n\")\n",
    "c3 = lista_de_convidados.pop(1)\n",
    "print(\"Sinto muito \" + c3.title() + \", porem nao vou poder convida-lo para comer pizza.\\n\")\n",
    "c4 = lista_de_convidados.pop(1)\n",
    "print(\"Sinto muito \" + c4.title() + \", porem nao vou poder convida-lo para comer pizza.\\n\")\n",
    "print(\"E ai \" + lista_de_convidados[0].title() + \", voce ainda esta convidado para pizza na sexta.\\n\")\n",
    "print(\"E ai \" + lista_de_convidados[1].title() + \", voce ainda esta convidado para pizza na sexta.\\n\")\n",
    "del lista_de_convidados[0]\n",
    "del lista_de_convidados[0]\n",
    "print(lista_de_convidados)\n",
    "print(\"\\n\")"
   ]
  },
  {
   "cell_type": "markdown",
   "metadata": {},
   "source": [
    "##### Exercício 3.8"
   ]
  },
  {
   "cell_type": "code",
   "execution_count": 8,
   "metadata": {},
   "outputs": [
    {
     "name": "stdout",
     "output_type": "stream",
     "text": [
      "Here is the original list:\n",
      "\t['disney', 'maiami', 'las vegas', 'caraguatatuba', 'nova zelandia']\n",
      "Here is the sorted list:\n",
      "\t['caraguatatuba', 'disney', 'las vegas', 'maiami', 'nova zelandia']\n",
      "Here is the original list again:\n",
      "\t['disney', 'maiami', 'las vegas', 'caraguatatuba', 'nova zelandia']\n",
      "Ordem Inversa:\n",
      "\t['nova zelandia', 'caraguatatuba', 'las vegas', 'maiami', 'disney']\n",
      "Ordem Inversa da Inversa:\n",
      "\t['disney', 'maiami', 'las vegas', 'caraguatatuba', 'nova zelandia']\n",
      "Ordem Alfabetica:\n",
      "\t['caraguatatuba', 'disney', 'las vegas', 'maiami', 'nova zelandia']\n",
      "Ordem Alfabetica Inversa:\n",
      "\t['nova zelandia', 'maiami', 'las vegas', 'disney', 'caraguatatuba']\n"
     ]
    }
   ],
   "source": [
    "lista_de_lugares = [\"disney\", \"maiami\", \"las vegas\", \"caraguatatuba\", \"nova zelandia\"]\n",
    "print(\"Here is the original list:\\n\\t\" + str(lista_de_lugares))\n",
    "print(\"Here is the sorted list:\\n\\t\" + str(sorted(lista_de_lugares)))\n",
    "print(\"Here is the original list again:\\n\\t\" + str(lista_de_lugares))\n",
    "lista_de_lugares.reverse()\n",
    "print(\"Ordem Inversa:\\n\\t\" + str(lista_de_lugares))\n",
    "lista_de_lugares.reverse()\n",
    "print(\"Ordem Inversa da Inversa:\\n\\t\" + str(lista_de_lugares))\n",
    "lista_de_lugares.sort()\n",
    "print(\"Ordem Alfabetica:\\n\\t\" + str(lista_de_lugares))\n",
    "lista_de_lugares.sort(reverse=True)\n",
    "print(\"Ordem Alfabetica Inversa:\\n\\t\" + str(lista_de_lugares))"
   ]
  },
  {
   "cell_type": "markdown",
   "metadata": {},
   "source": [
    "##### Exercício 3.9"
   ]
  },
  {
   "cell_type": "code",
   "execution_count": 9,
   "metadata": {},
   "outputs": [
    {
     "name": "stdout",
     "output_type": "stream",
     "text": [
      "E ai Leonardo Tadeu,\n",
      "Estou convidado algumas pessoas para comer pizza aqui em casa na sexta, topa?\n",
      "\n",
      "E ai Christian Barbosa,\n",
      "Estou convidado algumas pessoas para comer pizza aqui em casa na sexta, topa?\n",
      "\n",
      "E ai Jerry Strazzeri,\n",
      "Estou convidado algumas pessoas para comer pizza aqui em casa na sexta, topa?\n",
      "\n",
      "O numero de pessoas convidadas sera 3\n"
     ]
    }
   ],
   "source": [
    "lista_de_convidados = [\"Leonardo Tadeu\", \"Christian Barbosa\", \"Jerry Strazzeri\"]\n",
    "print(\"E ai \" + lista_de_convidados[0].title() + \",\\nEstou convidado algumas pessoas para comer pizza aqui em casa na sexta, topa?\\n\")\n",
    "print(\"E ai \" + lista_de_convidados[1].title() + \",\\nEstou convidado algumas pessoas para comer pizza aqui em casa na sexta, topa?\\n\")\n",
    "print(\"E ai \" + lista_de_convidados[2].title() + \",\\nEstou convidado algumas pessoas para comer pizza aqui em casa na sexta, topa?\\n\")\n",
    "print(\"O numero de pessoas convidadas sera \" + str(len(lista_de_convidados)))"
   ]
  },
  {
   "cell_type": "markdown",
   "metadata": {},
   "source": [
    "##### Exercício 3.10"
   ]
  },
  {
   "cell_type": "code",
   "execution_count": 11,
   "metadata": {},
   "outputs": [
    {
     "name": "stdout",
     "output_type": "stream",
     "text": [
      "Minha lista:\n",
      "\t['data engineering', 'notion', 'produtividade']\n",
      "Primeiro item da lista: Data Engineering\n",
      "Ultimo item da lista: Produtividade\n",
      "Mudando um item da lista:\n",
      "\t['data engineering', 'notion', 'ingles']\n",
      "Acrescentando itens na lista:\n",
      "\t['produtividade', 'data engineering', 'branding', 'notion', 'ingles', 'sql']\n",
      "Removendo itens da lista:\n",
      "\t['produtividade', 'data engineering', 'ingles']\n",
      " Dois dos itens que foram removidos: Sql and Notion\n",
      "Here is the original list:\n",
      "\t['produtividade', 'data engineering', 'ingles']\n",
      "Here is the sorted list:\n",
      "\t['data engineering', 'ingles', 'produtividade']\n",
      "Here is the original list again:\n",
      "\t['produtividade', 'data engineering', 'ingles']\n",
      "Ordem Inversa:\n",
      "\t['ingles', 'data engineering', 'produtividade']\n",
      "Ordem Inversa da Inversa:\n",
      "\t['produtividade', 'data engineering', 'ingles']\n",
      "Ordem Alfabetica:\n",
      "\t['data engineering', 'ingles', 'produtividade']\n",
      "Ordem Alfabetica Inversa:\n",
      "\t['produtividade', 'ingles', 'data engineering']\n",
      "Minha lista contem 3 itens.\n"
     ]
    }
   ],
   "source": [
    "skills_list = [\"data engineering\", \"notion\", \"produtividade\"]\n",
    "print(\"Minha lista:\\n\\t\" + str(skills_list))\n",
    "print(\"Primeiro item da lista: \" + skills_list[0].title())\n",
    "print(\"Ultimo item da lista: \" + skills_list[-1].title())\n",
    "skills_list[2] = \"ingles\"\n",
    "print(\"Mudando um item da lista:\\n\\t\" + str(skills_list))\n",
    "skills_list.append(\"sql\")\n",
    "skills_list.insert(0, \"produtividade\")\n",
    "skills_list.insert(2, \"branding\")\n",
    "print(\"Acrescentando itens na lista:\\n\\t\" + str(skills_list))\n",
    "del skills_list[2]\n",
    "last_item = skills_list.pop()\n",
    "item_removido = \"notion\"\n",
    "skills_list.remove(item_removido)\n",
    "print(\"Removendo itens da lista:\\n\\t\" + str(skills_list) + \"\\n Dois dos itens que foram removidos: \" + last_item.title() + \" and \" + item_removido.title())\n",
    "print(\"Here is the original list:\\n\\t\" + str(skills_list))\n",
    "print(\"Here is the sorted list:\\n\\t\" + str(sorted(skills_list)))\n",
    "print(\"Here is the original list again:\\n\\t\" + str(skills_list))\n",
    "skills_list.reverse()\n",
    "print(\"Ordem Inversa:\\n\\t\" + str(skills_list))\n",
    "skills_list.reverse()\n",
    "print(\"Ordem Inversa da Inversa:\\n\\t\" + str(skills_list))\n",
    "skills_list.sort()\n",
    "print(\"Ordem Alfabetica:\\n\\t\" + str(skills_list))\n",
    "skills_list.sort(reverse=True)\n",
    "print(\"Ordem Alfabetica Inversa:\\n\\t\" + str(skills_list))\n",
    "print(\"Minha lista contem \" + str(len(skills_list)) + \" itens.\")"
   ]
  },
  {
   "cell_type": "code",
   "execution_count": null,
   "metadata": {},
   "outputs": [],
   "source": []
  }
 ],
 "metadata": {
  "kernelspec": {
   "display_name": ".venv",
   "language": "python",
   "name": "python3"
  },
  "language_info": {
   "codemirror_mode": {
    "name": "ipython",
    "version": 3
   },
   "file_extension": ".py",
   "mimetype": "text/x-python",
   "name": "python",
   "nbconvert_exporter": "python",
   "pygments_lexer": "ipython3",
   "version": "3.12.1"
  }
 },
 "nbformat": 4,
 "nbformat_minor": 2
}
