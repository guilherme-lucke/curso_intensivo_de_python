{
 "cells": [
  {
   "cell_type": "markdown",
   "metadata": {},
   "source": [
    "##### Exercício 6.1"
   ]
  },
  {
   "cell_type": "code",
   "execution_count": 1,
   "metadata": {},
   "outputs": [
    {
     "name": "stdout",
     "output_type": "stream",
     "text": [
      "Gabriel\n",
      "Mellotti\n",
      "22\n",
      "Loulé\n"
     ]
    }
   ],
   "source": [
    "pessoa = {'first_name': 'gabriel',\n",
    "          'last_name': 'mellotti', 'age': 22, 'city': 'loulé'}\n",
    "print(pessoa['first_name'].title())\n",
    "print(pessoa['last_name'].title())\n",
    "print(pessoa['age'])\n",
    "print(pessoa['city'].title())"
   ]
  },
  {
   "cell_type": "markdown",
   "metadata": {},
   "source": [
    "##### Exercício 6.2"
   ]
  },
  {
   "cell_type": "code",
   "execution_count": 2,
   "metadata": {},
   "outputs": [
    {
     "name": "stdout",
     "output_type": "stream",
     "text": [
      "Gabriel: 3\n",
      "Lívia: 10\n",
      "Vitelas: 7\n",
      "Vinicius: 13\n",
      "Phelipe: 5\n"
     ]
    }
   ],
   "source": [
    "favorite_numbers = {'gabriel': 3, 'vitelas': 7,\n",
    "                    'lívia': 10, 'vinicius': 13, 'phelipe': 5}\n",
    "print(\"Gabriel: \" + str(favorite_numbers['gabriel']))\n",
    "print(\"Lívia: \" + str(favorite_numbers['lívia']))\n",
    "print(\"Vitelas: \" + str(favorite_numbers['vitelas']))\n",
    "print(\"Vinicius: \" + str(favorite_numbers['vinicius']))\n",
    "print(\"Phelipe: \" + str(favorite_numbers['phelipe']))"
   ]
  },
  {
   "cell_type": "markdown",
   "metadata": {},
   "source": [
    "##### Exercício 6.3"
   ]
  },
  {
   "cell_type": "code",
   "execution_count": 3,
   "metadata": {},
   "outputs": [
    {
     "name": "stdout",
     "output_type": "stream",
     "text": [
      "if:\n",
      "\tteste condicional\n",
      "dicionário:\n",
      "\tcoleção de chave-valor\n",
      "dataframe:\n",
      "\tsemelhante a uma tabela de db\n",
      "requests:\n",
      "\tsolicitar informação\n",
      "virtualenv:\n",
      "\tambiente virtual\n",
      "def:\n",
      "\tdefinir uma função\n"
     ]
    }
   ],
   "source": [
    "glossario = {\"if\": 'teste condicional', 'dicionário': 'coleção de chave-valor',\n",
    "             'dataframe': 'semelhante a uma tabela de db', 'requests': 'solicitar informação',\n",
    "             'virtualenv': 'ambiente virtual', 'def': 'definir uma função', }\n",
    "print(\"if:\\n\\t\" + glossario['if'])\n",
    "print(\"dicionário:\\n\\t\" + glossario['dicionário'])\n",
    "print(\"dataframe:\\n\\t\" + glossario['dataframe'])\n",
    "print(\"requests:\\n\\t\" + glossario['requests'])\n",
    "print(\"virtualenv:\\n\\t\" + glossario['virtualenv'])\n",
    "print(\"def:\\n\\t\" + glossario['def'])"
   ]
  },
  {
   "cell_type": "markdown",
   "metadata": {},
   "source": [
    "##### Exercício 6.4"
   ]
  },
  {
   "cell_type": "code",
   "execution_count": 4,
   "metadata": {},
   "outputs": [
    {
     "name": "stdout",
     "output_type": "stream",
     "text": [
      "If:\n",
      "\tTeste Condicional\n",
      "Dicionário:\n",
      "\tColeção De Chave-Valor\n",
      "Dataframe:\n",
      "\tSemelhante A Uma Tabela De Db\n",
      "Requests:\n",
      "\tSolicitar Informação\n",
      "Virtualenv:\n",
      "\tAmbiente Virtual\n",
      "Def:\n",
      "\tDefinir Uma Função\n",
      "Set:\n",
      "\tRemove Itens Repetidos\n",
      "Sorted:\n",
      "\tOrdena Uma Lista\n",
      "Key:\n",
      "\tUma Lista Com Todas As Chaves\n",
      "Values:\n",
      "\tUma Lisat Com Todos Os Valores\n"
     ]
    }
   ],
   "source": [
    "glossario = {\"if\": 'teste condicional', 'dicionário': 'coleção de chave-valor',\n",
    "             'dataframe': 'semelhante a uma tabela de db', 'requests': 'solicitar informação',\n",
    "             'virtualenv': 'ambiente virtual', 'def': 'definir uma função',\n",
    "             'set': \"remove itens repetidos\", 'sorted': 'ordena uma lista',\n",
    "             'key': 'uma lista com todas as chaves', 'values': 'uma lisat com todos os valores', }\n",
    "for key, value in glossario.items():\n",
    "    print(key.title() + \":\\n\\t\" + value.title())"
   ]
  },
  {
   "cell_type": "markdown",
   "metadata": {},
   "source": [
    "##### Exercício 6.5"
   ]
  },
  {
   "cell_type": "code",
   "execution_count": 5,
   "metadata": {},
   "outputs": [
    {
     "name": "stdout",
     "output_type": "stream",
     "text": [
      "O Rio Amazonas corre pelo Brasil.\n",
      "O Rio Nilo corre pelo Egito.\n",
      "O Rio Mississipi corre pelo Estados Unidos.\n",
      "\n",
      "Rios:\n",
      "Amazonas\n",
      "Nilo\n",
      "Mississipi\n",
      "\n",
      "Países:\n",
      "Brasil\n",
      "Egito\n",
      "Estados Unidos\n"
     ]
    }
   ],
   "source": [
    "rios = {'amazonas': 'brasil', 'nilo': 'egito',\n",
    "        'mississipi': 'estados unidos', }\n",
    "for key, value in rios.items():\n",
    "    print(\"O Rio \" + key.title() + \" corre pelo \" + value.title() + \".\")\n",
    "print(\"\\nRios:\")\n",
    "for rio in rios.keys():\n",
    "    print(rio.title())\n",
    "print(\"\\nPaíses:\")\n",
    "for pais in rios.values():\n",
    "    print(pais.title())"
   ]
  },
  {
   "cell_type": "markdown",
   "metadata": {},
   "source": [
    "##### Exercício 6.6"
   ]
  },
  {
   "cell_type": "code",
   "execution_count": 6,
   "metadata": {},
   "outputs": [
    {
     "name": "stdout",
     "output_type": "stream",
     "text": [
      "Jen, pode me responder uma enquete?\n",
      "Sarah, Obrigado por responder a enquete!\n",
      "Edward, pode me responder uma enquete?\n",
      "Phil, Obrigado por responder a enquete!\n"
     ]
    }
   ],
   "source": [
    "favorite_languages = {'jen': 'python', 'sarah': 'c',\n",
    "                      'edward': 'ruby', 'phil': 'python', }\n",
    "friends = ['phil', 'sarah', 'eric', 'joao']\n",
    "for pessoa in favorite_languages.keys():\n",
    "    if pessoa in friends:\n",
    "        print(pessoa.title() + \", Obrigado por responder a enquete!\")\n",
    "    else:\n",
    "        print(pessoa.title() + \", pode me responder uma enquete?\")"
   ]
  },
  {
   "cell_type": "markdown",
   "metadata": {},
   "source": [
    "##### Exercício 6.7"
   ]
  },
  {
   "cell_type": "code",
   "execution_count": 10,
   "metadata": {},
   "outputs": [
    {
     "name": "stdout",
     "output_type": "stream",
     "text": [
      "Gabriel Mellotti: \n",
      "\tIdade: 22\n",
      "\tCidade: Loulé\n",
      "Lívia Tubone: \n",
      "\tIdade: 23\n",
      "\tCidade: Mauá\n",
      "Vithor Fornitani: \n",
      "\tIdade: 20\n",
      "\tCidade: Caraguatatuba\n"
     ]
    }
   ],
   "source": [
    "gmellotti = {'first_name': 'gabriel',\n",
    "             'last_name': 'mellotti', 'age': 22, 'city': 'loulé'}\n",
    "ltubone = {'first_name': 'lívia',\n",
    "           'last_name': 'tubone', 'age': 23, 'city': 'mauá'}\n",
    "vfornitani = {'first_name': 'vithor',\n",
    "              'last_name': 'fornitani', 'age': 20, 'city': 'caraguatatuba'}\n",
    "people = [gmellotti, ltubone, vfornitani]\n",
    "for user in people:\n",
    "    full_name = user['first_name'] + \" \" + user['last_name']\n",
    "    print(full_name.title() + \": \")\n",
    "    print(\"\\tIdade: \" + str(user['age']))\n",
    "    print(\"\\tCidade: \" + user['city'].title())"
   ]
  },
  {
   "cell_type": "markdown",
   "metadata": {},
   "source": [
    "##### Exercício 6.8"
   ]
  },
  {
   "cell_type": "code",
   "execution_count": null,
   "metadata": {},
   "outputs": [],
   "source": [
    "lessi = {'name': 'lessi', 'type': 'cachorro', 'dono': 'lucke', }\n",
    "luffy = {'name': 'luffy', 'type': 'macaco', 'dono': 'gabriel', }\n",
    "pontas = {'name': 'pontas', 'type': 'gato', 'dono': 'lívia', }\n",
    "pets = [lessi, luffy, pontas, ]\n",
    "for pet in pets:\n",
    "    print(pet['name'].title() + \": \")\n",
    "    print(\"\\tTipo: \" + pet['type'])\n",
    "    print(\"\\tDono: \" + pet['dono'].title())"
   ]
  },
  {
   "cell_type": "markdown",
   "metadata": {},
   "source": [
    "##### Exercício 6.9"
   ]
  },
  {
   "cell_type": "code",
   "execution_count": 9,
   "metadata": {},
   "outputs": [
    {
     "name": "stdout",
     "output_type": "stream",
     "text": [
      "Os lugares favoritos do Gabriel: \n",
      "\tCasa\n",
      "\tPortugal\n",
      "Os lugares favoritos do Lívia: \n",
      "\tCasa\n",
      "\tKiosky\n",
      "\tPraia\n",
      "Os lugares favoritos do Vithor: \n",
      "\tCasa\n"
     ]
    }
   ],
   "source": [
    "favorite_places = {'gabriel': ['casa', 'portugal'], 'lívia': [\n",
    "    'casa', 'kiosky', 'praia'], 'vithor': ['casa']}\n",
    "for name, places in favorite_places.items():\n",
    "    print(\"Os lugares favoritos do \" + name.title() + \": \")\n",
    "    for place in places:\n",
    "        print(\"\\t\" + place.title())"
   ]
  },
  {
   "cell_type": "markdown",
   "metadata": {},
   "source": [
    "##### Exercício 6.10"
   ]
  },
  {
   "cell_type": "code",
   "execution_count": 12,
   "metadata": {},
   "outputs": [
    {
     "name": "stdout",
     "output_type": "stream",
     "text": [
      "Os números favoridos do Gabriel são:\n",
      "\t3\n",
      "\t5\n",
      "Os números favoridos do Vitelas são:\n",
      "\t7\n",
      "\t21\n",
      "Os números favoridos do Lívia são:\n",
      "\t10\n",
      "\t14\n",
      "\t31\n",
      "Os números favoridos do Vinicius são:\n",
      "\t13\n",
      "\t17\n",
      "\t1\n",
      "\t6\n",
      "Os números favoridos do Phelipe são:\n",
      "\t5\n"
     ]
    }
   ],
   "source": [
    "favorite_numbers = {'gabriel': [3, 5], 'vitelas': [7, 21],\n",
    "                    'lívia': [10, 14, 31], 'vinicius': [13, 17, 1, 6], 'phelipe': [5]}\n",
    "for name, numbers in favorite_numbers.items():\n",
    "    print(\"Os números favoridos do \" + name.title() + \" são:\")\n",
    "    for number in numbers:\n",
    "        print(\"\\t\" + str(number))"
   ]
  },
  {
   "cell_type": "markdown",
   "metadata": {},
   "source": [
    "##### Exercício 6.11"
   ]
  },
  {
   "cell_type": "code",
   "execution_count": 13,
   "metadata": {},
   "outputs": [
    {
     "name": "stdout",
     "output_type": "stream",
     "text": [
      "Rancharia:\n",
      "\tpais:: brasil\n",
      "\tpop: 29707\n",
      "\tfato: tem um balneário\n",
      "Loulé:\n",
      "\tpais:: portugal\n",
      "\tpop: 72373\n",
      "\tfato: denomina-se louletano\n",
      "Londres:\n",
      "\tpais:: inglaterra\n",
      "\tpop: 8982000\n",
      "\tfato: cidade do século 21\n"
     ]
    }
   ],
   "source": [
    "cities = {'rancharia': {'pais:': 'brasil', 'pop':  29707, 'fato': 'tem um balneário'},\n",
    "          'loulé': {'pais:': 'portugal', 'pop': 72373, 'fato': 'denomina-se louletano'},\n",
    "          'londres': {'pais:': 'inglaterra', 'pop': 8982000, 'fato': 'cidade do século 21'}}\n",
    "for name, city in cities.items():\n",
    "    print(name.title() + \":\")\n",
    "    for key, value in city.items():\n",
    "        print(\"\\t\" + key + \": \" + str(value))"
   ]
  }
 ],
 "metadata": {
  "kernelspec": {
   "display_name": ".venv",
   "language": "python",
   "name": "python3"
  },
  "language_info": {
   "codemirror_mode": {
    "name": "ipython",
    "version": 3
   },
   "file_extension": ".py",
   "mimetype": "text/x-python",
   "name": "python",
   "nbconvert_exporter": "python",
   "pygments_lexer": "ipython3",
   "version": "3.12.1"
  }
 },
 "nbformat": 4,
 "nbformat_minor": 2
}
